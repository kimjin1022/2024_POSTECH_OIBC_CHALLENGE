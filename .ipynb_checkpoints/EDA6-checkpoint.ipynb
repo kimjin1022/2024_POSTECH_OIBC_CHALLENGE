{
 "cells": [
  {
   "cell_type": "code",
   "execution_count": 1,
   "id": "02c4ec8c-4a14-4783-9f1b-fe43228789ef",
   "metadata": {},
   "outputs": [],
   "source": [
    "import os\n",
    "import numpy as np\n",
    "import pandas as pd\n",
    "import matplotlib.pyplot as plt"
   ]
  },
  {
   "cell_type": "code",
   "execution_count": 2,
   "id": "bb53e805-0bad-48b9-980c-bebf686ef822",
   "metadata": {},
   "outputs": [],
   "source": [
    "base_path = \"/home/jinjinjara1022/\"\n",
    "\n",
    "weather_forecast_data_1 = pd.read_csv(base_path + \"OBIC/data/기상예측데이터_1.csv\")\n",
    "weather_forecast_data_2 = pd.read_csv(base_path + \"OBIC/data/기상예측데이터_2.csv\")  \n",
    "\n",
    "weather_observed_data_1 = pd.read_csv(base_path + \"OBIC/data/기상실측데이터_1.csv\")\n",
    "weather_observed_data_2 = pd.read_csv(base_path + \"OBIC/data/기상실측데이터_2.csv\")  \n",
    "  \n",
    "jeju_power_market_day_ahead = pd.read_csv(base_path + \"OBIC/data/제주전력시장_시장전기가격_하루전가격_10_31.csv\")\n",
    "jeju_power_market_real_time = pd.read_csv(base_path + \"OBIC/data/제주전력시장_시장전기가격_실시간가격.csv\")\n",
    "\n",
    "jeju_power_market_status = pd.read_csv(base_path + \"OBIC/data/제주전력시장_현황데이터.csv\")"
   ]
  },
  {
   "cell_type": "code",
   "execution_count": null,
   "id": "940ed32d-a53e-4402-a243-5298acdcb624",
   "metadata": {},
   "outputs": [],
   "source": []
  }
 ],
 "metadata": {
  "kernelspec": {
   "display_name": "Python 3 (ipykernel)",
   "language": "python",
   "name": "python3"
  },
  "language_info": {
   "codemirror_mode": {
    "name": "ipython",
    "version": 3
   },
   "file_extension": ".py",
   "mimetype": "text/x-python",
   "name": "python",
   "nbconvert_exporter": "python",
   "pygments_lexer": "ipython3",
   "version": "3.10.14"
  }
 },
 "nbformat": 4,
 "nbformat_minor": 5
}
