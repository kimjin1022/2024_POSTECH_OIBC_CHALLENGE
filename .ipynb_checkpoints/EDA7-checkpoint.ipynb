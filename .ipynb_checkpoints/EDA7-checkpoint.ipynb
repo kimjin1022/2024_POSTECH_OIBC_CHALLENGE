{
 "cells": [
  {
   "cell_type": "code",
   "execution_count": 4,
   "id": "02c4ec8c-4a14-4783-9f1b-fe43228789ef",
   "metadata": {},
   "outputs": [
    {
     "ename": "ModuleNotFoundError",
     "evalue": "No module named 'sktime'",
     "output_type": "error",
     "traceback": [
      "\u001b[0;31m---------------------------------------------------------------------------\u001b[0m",
      "\u001b[0;31mModuleNotFoundError\u001b[0m                       Traceback (most recent call last)",
      "Cell \u001b[0;32mIn[4], line 2\u001b[0m\n\u001b[1;32m      1\u001b[0m \u001b[38;5;28;01mimport\u001b[39;00m \u001b[38;5;21;01msys\u001b[39;00m\n\u001b[0;32m----> 2\u001b[0m \u001b[38;5;28;01mimport\u001b[39;00m \u001b[38;5;21;01msktime\u001b[39;00m\n\u001b[1;32m      3\u001b[0m \u001b[38;5;28;01mimport\u001b[39;00m \u001b[38;5;21;01mtqdm\u001b[39;00m \u001b[38;5;28;01mas\u001b[39;00m \u001b[38;5;21;01mtq\u001b[39;00m\n\u001b[1;32m      4\u001b[0m \u001b[38;5;28;01mimport\u001b[39;00m \u001b[38;5;21;01mxgboost\u001b[39;00m \u001b[38;5;28;01mas\u001b[39;00m \u001b[38;5;21;01mxgb\u001b[39;00m\n",
      "\u001b[0;31mModuleNotFoundError\u001b[0m: No module named 'sktime'"
     ]
    }
   ],
   "source": [
    "import sys\n",
    "import sktime\n",
    "import tqdm as tq\n",
    "import xgboost as xgb\n",
    "import matplotlib\n",
    "import seaborn as sns\n",
    "import sklearn as skl\n",
    "import pandas as pd\n",
    "import numpy as np\n",
    "\n",
    "import matplotlib.pyplot as plt\n",
    "from tqdm import tqdm\n",
    "from sktime.forecasting.model_selection import temporal_train_test_split\n",
    "from sktime.utils.plotting import plot_series\n",
    "from xgboost import XGBRegressor"
   ]
  },
  {
   "cell_type": "code",
   "execution_count": 3,
   "id": "273a32f6-6619-475c-96af-47d234b79b3f",
   "metadata": {},
   "outputs": [
    {
     "ename": "NameError",
     "evalue": "name 'pd' is not defined",
     "output_type": "error",
     "traceback": [
      "\u001b[0;31m---------------------------------------------------------------------------\u001b[0m",
      "\u001b[0;31mNameError\u001b[0m                                 Traceback (most recent call last)",
      "Cell \u001b[0;32mIn[3], line 3\u001b[0m\n\u001b[1;32m      1\u001b[0m base_path \u001b[38;5;241m=\u001b[39m \u001b[38;5;124m\"\u001b[39m\u001b[38;5;124m/home/jinjinjara1022/\u001b[39m\u001b[38;5;124m\"\u001b[39m\n\u001b[0;32m----> 3\u001b[0m weather_forecast_data_1 \u001b[38;5;241m=\u001b[39m \u001b[43mpd\u001b[49m\u001b[38;5;241m.\u001b[39mread_csv(base_path \u001b[38;5;241m+\u001b[39m \u001b[38;5;124m\"\u001b[39m\u001b[38;5;124mOBIC/data/기상예측데이터_1.csv\u001b[39m\u001b[38;5;124m\"\u001b[39m)\n\u001b[1;32m      4\u001b[0m jeju_power_market_day_ahead \u001b[38;5;241m=\u001b[39m pd\u001b[38;5;241m.\u001b[39mread_csv(base_path \u001b[38;5;241m+\u001b[39m \u001b[38;5;124m\"\u001b[39m\u001b[38;5;124mOBIC/data/제주전력시장_시장전기가격_하루전가격.csv\u001b[39m\u001b[38;5;124m\"\u001b[39m)\n",
      "\u001b[0;31mNameError\u001b[0m: name 'pd' is not defined"
     ]
    }
   ],
   "source": [
    "base_path = \"/home/jinjinjara1022/\"\n",
    "\n",
    "weather_forecast_data_1 = pd.read_csv(base_path + \"OBIC/data/기상예측데이터_1.csv\")\n",
    "jeju_power_market_day_ahead = pd.read_csv(base_path + \"OBIC/data/제주전력시장_시장전기가격_하루전가격.csv\")"
   ]
  },
  {
   "cell_type": "code",
   "execution_count": 10,
   "id": "56720f79-ec92-4696-8e53-0e7ca0ec3d39",
   "metadata": {},
   "outputs": [
    {
     "name": "stderr",
     "output_type": "stream",
     "text": [
      "/tmp/ipykernel_853518/1489643764.py:2: FutureWarning: The behavior of 'to_datetime' with 'unit' when parsing strings is deprecated. In a future version, strings will be parsed as datetime strings, matching the behavior without a 'unit'. To retain the old behavior, explicitly cast ints or floats to numeric type before calling to_datetime.\n",
      "  weather_forecast_data_1['ts'] =  pd.to_datetime(weather_forecast_data_1['ts'], unit='s')\n",
      "/tmp/ipykernel_853518/1489643764.py:3: FutureWarning: The behavior of 'to_datetime' with 'unit' when parsing strings is deprecated. In a future version, strings will be parsed as datetime strings, matching the behavior without a 'unit'. To retain the old behavior, explicitly cast ints or floats to numeric type before calling to_datetime.\n",
      "  weather_forecast_data_1['base_ts'] = pd.to_datetime(weather_forecast_data_1['base_ts'], unit='s')\n"
     ]
    }
   ],
   "source": [
    "weather_forecast_data_1 = weather_forecast_data_1[weather_forecast_data_1['location'] != 'location']\n",
    "weather_forecast_data_1['ts'] =  pd.to_datetime(weather_forecast_data_1['ts'], unit='s')\n",
    "weather_forecast_data_1['base_ts'] = pd.to_datetime(weather_forecast_data_1['base_ts'], unit='s')\n",
    "\n",
    "columns_to_average = [\n",
    "    'temp', 'real_feel_temp', 'wet_bulb_temp', 'dew_point', \n",
    "    'wind_dir', 'wind_spd', 'wind_gust_spd', 'rel_hum', 'vis', \n",
    "    'ceiling', 'uv_idx', 'precip_prob', 'rain_prob', 'snow_prob', \n",
    "    'ice_prob', 'total_liq', 'rain', 'snow', 'ice', 'cld_cvr'\n",
    "]\n",
    "\n",
    "weather_forecast_data_1[columns_to_average] = weather_forecast_data_1[columns_to_average].apply(pd.to_numeric, errors='coerce')\n",
    "\n",
    "\n",
    "average_df = weather_forecast_data_1.groupby('ts', as_index=False)[columns_to_average].mean()\n",
    "weather_df = average_df"
   ]
  },
  {
   "cell_type": "code",
   "execution_count": 11,
   "id": "86c2f9eb-8bae-4a12-a4ab-11ef8b1671f9",
   "metadata": {},
   "outputs": [],
   "source": [
    "ahead_df = jeju_power_market_day_ahead\n",
    "ahead_df['ts'] = pd.to_datetime(ahead_df['ts'], unit='s')"
   ]
  },
  {
   "cell_type": "code",
   "execution_count": 12,
   "id": "2eee72ff-f7f1-4e3b-b6c9-7512bf378c46",
   "metadata": {},
   "outputs": [],
   "source": [
    "df = pd.merge(weather_df, ahead_df, on='ts')"
   ]
  },
  {
   "cell_type": "code",
   "execution_count": 13,
   "id": "327c4948-db0d-4335-ad04-d41a87141ffa",
   "metadata": {},
   "outputs": [],
   "source": [
    "df['hour'] = df['ts'].dt.hour\n",
    "df['hour_sin'] = np.sin(2 * np.pi * df['hour'] / 24)\n",
    "df['hour_cos'] = np.cos(2 * np.pi * df['hour'] / 24)\n",
    "\n",
    "df['month'] = df['ts'].dt.month\n",
    "df['month_sin'] = np.sin(2 * np.pi * df['month'] / 12)\n",
    "df['month_cos'] = np.cos(2 * np.pi * df['month'] / 12)\n",
    "\n",
    "df['day_of_week'] = df['ts'].dt.dayofweek\n",
    "df['day_of_week_sin'] = np.sin(2 * np.pi * df['day_of_week'] / 7)\n",
    "df['day_of_week_cos'] = np.cos(2 * np.pi * df['day_of_week'] / 7)\n",
    "\n",
    "df = df.drop(['hour', 'month', 'day_of_week'], axis=1)\n",
    "df = df[[col for col in df.columns if col != '하루전가격(원/kWh)'] + ['하루전가격(원/kWh)']]\n",
    "\n",
    "df.rename(columns={\n",
    "    '하루전가격(원/kWh)': 'previous_price_kwh'\n",
    "}, inplace=True)\n",
    "\n",
    "df['previous_day_price'] = df['previous_price_kwh'].shift(24)\n",
    "df['previous_2day_price'] = df['previous_price_kwh'].shift(48)\n",
    "df['previous_3day_price'] = df['previous_price_kwh'].shift(72)"
   ]
  },
  {
   "cell_type": "code",
   "execution_count": 14,
   "id": "f82a9ef0-7c5a-49d2-b6a6-60e50527f90d",
   "metadata": {},
   "outputs": [
    {
     "name": "stdout",
     "output_type": "stream",
     "text": [
      "<class 'pandas.core.frame.DataFrame'>\n",
      "RangeIndex: 5641 entries, 0 to 5640\n",
      "Data columns (total 31 columns):\n",
      " #   Column               Non-Null Count  Dtype         \n",
      "---  ------               --------------  -----         \n",
      " 0   ts                   5641 non-null   datetime64[ns]\n",
      " 1   temp                 5641 non-null   float64       \n",
      " 2   real_feel_temp       5641 non-null   float64       \n",
      " 3   wet_bulb_temp        5641 non-null   float64       \n",
      " 4   dew_point            5641 non-null   float64       \n",
      " 5   wind_dir             5641 non-null   float64       \n",
      " 6   wind_spd             5641 non-null   float64       \n",
      " 7   wind_gust_spd        5641 non-null   float64       \n",
      " 8   rel_hum              5641 non-null   float64       \n",
      " 9   vis                  5641 non-null   float64       \n",
      " 10  ceiling              5641 non-null   float64       \n",
      " 11  uv_idx               5641 non-null   float64       \n",
      " 12  precip_prob          5641 non-null   float64       \n",
      " 13  rain_prob            5641 non-null   float64       \n",
      " 14  snow_prob            5641 non-null   float64       \n",
      " 15  ice_prob             5641 non-null   float64       \n",
      " 16  total_liq            5641 non-null   float64       \n",
      " 17  rain                 5641 non-null   float64       \n",
      " 18  snow                 5641 non-null   float64       \n",
      " 19  ice                  5641 non-null   float64       \n",
      " 20  cld_cvr              5641 non-null   float64       \n",
      " 21  hour_sin             5641 non-null   float64       \n",
      " 22  hour_cos             5641 non-null   float64       \n",
      " 23  month_sin            5641 non-null   float64       \n",
      " 24  month_cos            5641 non-null   float64       \n",
      " 25  day_of_week_sin      5641 non-null   float64       \n",
      " 26  day_of_week_cos      5641 non-null   float64       \n",
      " 27  previous_price_kwh   5641 non-null   float64       \n",
      " 28  previous_day_price   5617 non-null   float64       \n",
      " 29  previous_2day_price  5593 non-null   float64       \n",
      " 30  previous_3day_price  5569 non-null   float64       \n",
      "dtypes: datetime64[ns](1), float64(30)\n",
      "memory usage: 1.3 MB\n"
     ]
    }
   ],
   "source": [
    "df.info()"
   ]
  },
  {
   "cell_type": "code",
   "execution_count": 1,
   "id": "ba5725f5-dfde-40c2-8697-5adff8a55d77",
   "metadata": {},
   "outputs": [
    {
     "ename": "NameError",
     "evalue": "name 'df' is not defined",
     "output_type": "error",
     "traceback": [
      "\u001b[0;31m---------------------------------------------------------------------------\u001b[0m",
      "\u001b[0;31mNameError\u001b[0m                                 Traceback (most recent call last)",
      "Cell \u001b[0;32mIn[1], line 1\u001b[0m\n\u001b[0;32m----> 1\u001b[0m \u001b[43mdf\u001b[49m\n",
      "\u001b[0;31mNameError\u001b[0m: name 'df' is not defined"
     ]
    }
   ],
   "source": [
    "df"
   ]
  },
  {
   "cell_type": "code",
   "execution_count": null,
   "id": "4103a976-bf5b-4a23-94ad-6baa4681afb3",
   "metadata": {},
   "outputs": [],
   "source": []
  }
 ],
 "metadata": {
  "kernelspec": {
   "display_name": "Python 3 (ipykernel)",
   "language": "python",
   "name": "python3"
  },
  "language_info": {
   "codemirror_mode": {
    "name": "ipython",
    "version": 3
   },
   "file_extension": ".py",
   "mimetype": "text/x-python",
   "name": "python",
   "nbconvert_exporter": "python",
   "pygments_lexer": "ipython3",
   "version": "3.10.15"
  }
 },
 "nbformat": 4,
 "nbformat_minor": 5
}
