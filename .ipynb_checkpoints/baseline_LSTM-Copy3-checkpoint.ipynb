{
 "cells": [
  {
   "cell_type": "markdown",
   "id": "d2b2a626-1ddf-4557-9ddd-f2ad322e1f89",
   "metadata": {},
   "source": [
    "## Import"
   ]
  },
  {
   "cell_type": "code",
   "execution_count": 1,
   "id": "461fed29-3846-48b0-97f9-9e308aec9d39",
   "metadata": {},
   "outputs": [],
   "source": [
    "import pandas as pd\n",
    "import numpy as np\n",
    "import random\n",
    "import os\n",
    "\n",
    "from sklearn.preprocessing import MinMaxScaler\n",
    "from sklearn.preprocessing import LabelEncoder\n",
    "\n",
    "import torch\n",
    "import torch.nn as nn\n",
    "from torch.utils.data import Dataset, DataLoader \n",
    "\n",
    "from tqdm.auto import tqdm\n",
    "import matplotlib.pyplot as plt"
   ]
  },
  {
   "cell_type": "markdown",
   "id": "55b82638-d582-4247-9f7b-875d0b61ccc0",
   "metadata": {},
   "source": [
    "## Fixed Random Seed"
   ]
  },
  {
   "cell_type": "code",
   "execution_count": 2,
   "id": "1e51a562-6a1d-4e0b-9871-4231650346dd",
   "metadata": {},
   "outputs": [],
   "source": [
    "def seed_everything(seed):\n",
    "    random.seed(seed)\n",
    "    os.environ['PYTHONHASHSEED'] = str(seed)\n",
    "    np.random.seed(seed)\n",
    "    torch.manual_seed(seed)\n",
    "    torch.cuda.manual_seed(seed)\n",
    "    torch.backends.cudnn.deterministic = True\n",
    "    torch.backends.cudnn.benchmark = True\n",
    "\n",
    "seed_everything(42)"
   ]
  },
  {
   "cell_type": "markdown",
   "id": "403db64e-67ae-40db-9f8a-d8aa7cd6913c",
   "metadata": {},
   "source": [
    "## Data Load"
   ]
  },
  {
   "cell_type": "code",
   "execution_count": 3,
   "id": "04214d01-21d1-4d93-9442-1e579d60ca3a",
   "metadata": {},
   "outputs": [],
   "source": [
    "base_path = \"/home/jinjinjara1022/\"\n",
    "\n",
    "weather_forecast_data_1 = pd.read_csv(base_path + \"OBIC/data/기상예측데이터_1.csv\")\n",
    "weather_forecast_data_2 = pd.read_csv(base_path + \"OBIC/data/기상예측데이터_2.csv\")  \n",
    "\n",
    "weather_observed_data_1 = pd.read_csv(base_path + \"OBIC/data/기상실측데이터_1.csv\")\n",
    "weather_observed_data_2 = pd.read_csv(base_path + \"OBIC/data/기상실측데이터_2.csv\")  \n",
    "  \n",
    "jeju_power_market_day_ahead = pd.read_csv(base_path + \"OBIC/data/제주전력시장_시장전기가격_하루전가격.csv\")\n",
    "jeju_power_market_real_time = pd.read_csv(base_path + \"OBIC/data/제주전력시장_시장전기가격_실시간가격.csv\")\n",
    "\n",
    "jeju_power_market_status = pd.read_csv(base_path + \"OBIC/data/제주전력시장_현황데이터.csv\")"
   ]
  },
  {
   "cell_type": "markdown",
   "id": "ff4d5843-1ef1-41e8-93b7-9a65067ae55f",
   "metadata": {},
   "source": [
    "## Data preprocessing"
   ]
  },
  {
   "cell_type": "code",
   "execution_count": 46,
   "id": "53faf9a2-ea9e-4f45-ad3a-c23963817414",
   "metadata": {},
   "outputs": [],
   "source": [
    "df = jeju_power_market_day_ahead"
   ]
  },
  {
   "cell_type": "code",
   "execution_count": 47,
   "id": "08e24e20-e170-4dff-a18d-a7a3c2d1e648",
   "metadata": {},
   "outputs": [],
   "source": [
    "df['datetimes'] = pd.to_datetime(df['ts'], unit='s')\n",
    "\n",
    "df['month'] = df['datetimes'].dt.month\n",
    "df['hour'] = df['datetimes'].dt.hour"
   ]
  },
  {
   "cell_type": "code",
   "execution_count": 48,
   "id": "02c95ae2-7028-4b9e-b922-2dfb76040323",
   "metadata": {},
   "outputs": [],
   "source": [
    "df['hour_sin'] = np.sin(2 * np.pi * df['hour'] / 24)\n",
    "df['hour_cos'] = np.cos(2 * np.pi * df['hour'] / 24)\n",
    "\n",
    "df['month_sin'] = np.sin(2 * np.pi * df['month'] / 12)\n",
    "df['mobth_cos'] = np.cos(2 * np.pi * df['month'] / 12)"
   ]
  },
  {
   "cell_type": "code",
   "execution_count": 49,
   "id": "fe263849-8a4e-4f11-af55-605a2d60b3f0",
   "metadata": {},
   "outputs": [],
   "source": [
    "df = df.drop(['ts', 'datetimes', 'month', 'day', 'hour'], axis=1)\n",
    "df = df[[col for col in df.columns if col != '하루전가격(원/kWh)'] + ['하루전가격(원/kWh)']]"
   ]
  },
  {
   "cell_type": "code",
   "execution_count": 50,
   "id": "5cd02f1f-bbcf-4553-bb0f-e587999d33e9",
   "metadata": {},
   "outputs": [],
   "source": [
    "df['previous_ahead_price'] = df['하루전가격(원/kWh)'].shift(24)\n",
    "df = df[[col for col in df.columns if col != '하루전가격(원/kWh)'] + ['하루전가격(원/kWh)']]"
   ]
  },
  {
   "cell_type": "code",
   "execution_count": 51,
   "id": "48ef3c8d-0b39-48cf-944e-3af2008d9399",
   "metadata": {},
   "outputs": [],
   "source": [
    "train_df = df[2000:int(len(df) * 0.8)]\n",
    "vali_df = df[2000:int(len(df) * 0.9):]"
   ]
  },
  {
   "cell_type": "code",
   "execution_count": 52,
   "id": "3dd03290-41e5-4d35-9559-aeb7c2377c4c",
   "metadata": {},
   "outputs": [
    {
     "data": {
      "text/html": [
       "<div>\n",
       "<style scoped>\n",
       "    .dataframe tbody tr th:only-of-type {\n",
       "        vertical-align: middle;\n",
       "    }\n",
       "\n",
       "    .dataframe tbody tr th {\n",
       "        vertical-align: top;\n",
       "    }\n",
       "\n",
       "    .dataframe thead th {\n",
       "        text-align: right;\n",
       "    }\n",
       "</style>\n",
       "<table border=\"1\" class=\"dataframe\">\n",
       "  <thead>\n",
       "    <tr style=\"text-align: right;\">\n",
       "      <th></th>\n",
       "      <th>hour_sin</th>\n",
       "      <th>hour_cos</th>\n",
       "      <th>month_sin</th>\n",
       "      <th>mobth_cos</th>\n",
       "      <th>previous_ahead_price</th>\n",
       "      <th>하루전가격(원/kWh)</th>\n",
       "    </tr>\n",
       "  </thead>\n",
       "  <tbody>\n",
       "    <tr>\n",
       "      <th>24</th>\n",
       "      <td>-0.707107</td>\n",
       "      <td>-7.071068e-01</td>\n",
       "      <td>1.0</td>\n",
       "      <td>6.123234e-17</td>\n",
       "      <td>107.39</td>\n",
       "      <td>112.19</td>\n",
       "    </tr>\n",
       "    <tr>\n",
       "      <th>25</th>\n",
       "      <td>-0.866025</td>\n",
       "      <td>-5.000000e-01</td>\n",
       "      <td>1.0</td>\n",
       "      <td>6.123234e-17</td>\n",
       "      <td>107.39</td>\n",
       "      <td>138.50</td>\n",
       "    </tr>\n",
       "    <tr>\n",
       "      <th>26</th>\n",
       "      <td>-0.965926</td>\n",
       "      <td>-2.588190e-01</td>\n",
       "      <td>1.0</td>\n",
       "      <td>6.123234e-17</td>\n",
       "      <td>95.30</td>\n",
       "      <td>99.48</td>\n",
       "    </tr>\n",
       "    <tr>\n",
       "      <th>27</th>\n",
       "      <td>-1.000000</td>\n",
       "      <td>-1.836970e-16</td>\n",
       "      <td>1.0</td>\n",
       "      <td>6.123234e-17</td>\n",
       "      <td>87.89</td>\n",
       "      <td>95.38</td>\n",
       "    </tr>\n",
       "    <tr>\n",
       "      <th>28</th>\n",
       "      <td>-0.965926</td>\n",
       "      <td>2.588190e-01</td>\n",
       "      <td>1.0</td>\n",
       "      <td>6.123234e-17</td>\n",
       "      <td>0.00</td>\n",
       "      <td>91.24</td>\n",
       "    </tr>\n",
       "    <tr>\n",
       "      <th>...</th>\n",
       "      <td>...</td>\n",
       "      <td>...</td>\n",
       "      <td>...</td>\n",
       "      <td>...</td>\n",
       "      <td>...</td>\n",
       "      <td>...</td>\n",
       "    </tr>\n",
       "    <tr>\n",
       "      <th>4527</th>\n",
       "      <td>1.000000</td>\n",
       "      <td>6.123234e-17</td>\n",
       "      <td>-1.0</td>\n",
       "      <td>-1.836970e-16</td>\n",
       "      <td>151.08</td>\n",
       "      <td>150.69</td>\n",
       "    </tr>\n",
       "    <tr>\n",
       "      <th>4528</th>\n",
       "      <td>0.965926</td>\n",
       "      <td>-2.588190e-01</td>\n",
       "      <td>-1.0</td>\n",
       "      <td>-1.836970e-16</td>\n",
       "      <td>150.99</td>\n",
       "      <td>152.93</td>\n",
       "    </tr>\n",
       "    <tr>\n",
       "      <th>4529</th>\n",
       "      <td>0.866025</td>\n",
       "      <td>-5.000000e-01</td>\n",
       "      <td>-1.0</td>\n",
       "      <td>-1.836970e-16</td>\n",
       "      <td>161.09</td>\n",
       "      <td>152.93</td>\n",
       "    </tr>\n",
       "    <tr>\n",
       "      <th>4530</th>\n",
       "      <td>0.707107</td>\n",
       "      <td>-7.071068e-01</td>\n",
       "      <td>-1.0</td>\n",
       "      <td>-1.836970e-16</td>\n",
       "      <td>161.09</td>\n",
       "      <td>160.70</td>\n",
       "    </tr>\n",
       "    <tr>\n",
       "      <th>4531</th>\n",
       "      <td>0.500000</td>\n",
       "      <td>-8.660254e-01</td>\n",
       "      <td>-1.0</td>\n",
       "      <td>-1.836970e-16</td>\n",
       "      <td>161.43</td>\n",
       "      <td>161.03</td>\n",
       "    </tr>\n",
       "  </tbody>\n",
       "</table>\n",
       "<p>4508 rows × 6 columns</p>\n",
       "</div>"
      ],
      "text/plain": [
       "      hour_sin      hour_cos  month_sin     mobth_cos  previous_ahead_price  \\\n",
       "24   -0.707107 -7.071068e-01        1.0  6.123234e-17                107.39   \n",
       "25   -0.866025 -5.000000e-01        1.0  6.123234e-17                107.39   \n",
       "26   -0.965926 -2.588190e-01        1.0  6.123234e-17                 95.30   \n",
       "27   -1.000000 -1.836970e-16        1.0  6.123234e-17                 87.89   \n",
       "28   -0.965926  2.588190e-01        1.0  6.123234e-17                  0.00   \n",
       "...        ...           ...        ...           ...                   ...   \n",
       "4527  1.000000  6.123234e-17       -1.0 -1.836970e-16                151.08   \n",
       "4528  0.965926 -2.588190e-01       -1.0 -1.836970e-16                150.99   \n",
       "4529  0.866025 -5.000000e-01       -1.0 -1.836970e-16                161.09   \n",
       "4530  0.707107 -7.071068e-01       -1.0 -1.836970e-16                161.09   \n",
       "4531  0.500000 -8.660254e-01       -1.0 -1.836970e-16                161.43   \n",
       "\n",
       "      하루전가격(원/kWh)  \n",
       "24          112.19  \n",
       "25          138.50  \n",
       "26           99.48  \n",
       "27           95.38  \n",
       "28           91.24  \n",
       "...            ...  \n",
       "4527        150.69  \n",
       "4528        152.93  \n",
       "4529        152.93  \n",
       "4530        160.70  \n",
       "4531        161.03  \n",
       "\n",
       "[4508 rows x 6 columns]"
      ]
     },
     "execution_count": 52,
     "metadata": {},
     "output_type": "execute_result"
    }
   ],
   "source": [
    "train_df"
   ]
  },
  {
   "cell_type": "code",
   "execution_count": 81,
   "id": "ffb681a7-8c99-4c9f-ac94-d39f426a2e6a",
   "metadata": {},
   "outputs": [],
   "source": [
    "input_size = 6  # feature의 개수\n",
    "hidden_size = 64\n",
    "num_layers = 3\n",
    "output_size = 1\n",
    "num_epochs = 100\n",
    "window_size = 48  # 예측에 사용될 시간 윈도우 크기\n",
    "batch_size = 32\n",
    "learning_rate = 0.001"
   ]
  },
  {
   "cell_type": "code",
   "execution_count": 82,
   "id": "0825379d-9b3a-452a-82a9-0d9f6405438a",
   "metadata": {},
   "outputs": [],
   "source": [
    "import torch\n",
    "from torch.utils.data import Dataset, DataLoader\n",
    "import pandas as pd\n",
    "\n",
    "class TimeSeriesDataset(Dataset):\n",
    "    def __init__(self, df, window_size):\n",
    "        self.df = df.values\n",
    "        self.window_size = window_size\n",
    "\n",
    "    def __len__(self):\n",
    "        return len(self.df) - self.window_size\n",
    "\n",
    "    def __getitem__(self, idx):\n",
    "        x = torch.tensor(self.df[idx:idx+self.window_size, :], dtype=torch.float)\n",
    "        y = torch.tensor(self.df[idx+self.window_size, -1], dtype=torch.float)  # 예측할 열이 마지막 열에 있다고 가정\n",
    "        return x, y\n",
    "\n",
    "def create_data_loader(df, window_size, batch_size):\n",
    "    dataset = TimeSeriesDataset(df, window_size)\n",
    "    data_loader = DataLoader(dataset, batch_size=batch_size, shuffle=False)\n",
    "    return data_loader\n",
    "\n",
    "\n",
    "train_loader = create_data_loader(train_df, window_size, batch_size)"
   ]
  },
  {
   "cell_type": "code",
   "execution_count": 83,
   "id": "15d602ae-898a-42c7-a607-9b86b110a43e",
   "metadata": {},
   "outputs": [],
   "source": [
    "class LSTM(nn.Module):\n",
    "    def __init__(self, input_size, hidden_size, num_layers, output_size):\n",
    "        super(LSTM, self).__init__()\n",
    "\n",
    "        self.hidden_size = hidden_size\n",
    "        self.num_layers = num_layers\n",
    "\n",
    "        self.lstm = nn.LSTM(input_size, hidden_size, num_layers, batch_first=True)\n",
    "        self.fc = nn.Linear(hidden_size, output_size)\n",
    "\n",
    "    def forward(self, x):\n",
    "        h0 = torch.zeros(self.num_layers, x.size(0), self.hidden_size).to(x.device) \n",
    "        c0 = torch.zeros(self.num_layers, x.size(0), self.hidden_size).to(x.device)\n",
    "\n",
    "        out, _ = self.lstm(x, (h0, c0))\n",
    "        out = self.fc(out[:, -1, :])\n",
    "\n",
    "        return out"
   ]
  },
  {
   "cell_type": "code",
   "execution_count": 84,
   "id": "935e7073-e81a-4906-b804-5da2d63f2071",
   "metadata": {},
   "outputs": [
    {
     "name": "stdout",
     "output_type": "stream",
     "text": [
      "current device: cuda\n"
     ]
    }
   ],
   "source": [
    "device = torch.device('cuda' if torch.cuda.is_available() else 'cpu')\n",
    "print(f\"current device: {device}\")\n",
    "\n",
    "model = LSTM(input_size, hidden_size, num_layers, output_size).to(device)\n",
    "\n",
    "criterion = nn.MSELoss()\n",
    "optimizer = torch.optim.Adam(model.parameters(), lr=learning_rate)"
   ]
  },
  {
   "cell_type": "code",
   "execution_count": 88,
   "id": "422be82b-cdd1-489e-b4bb-ed909dc2755f",
   "metadata": {},
   "outputs": [],
   "source": [
    "val_loader = create_data_loader(vali_df, window_size, 32)"
   ]
  },
  {
   "cell_type": "code",
   "execution_count": 89,
   "id": "1c4ac4e6-84f1-4c94-a37e-138601225505",
   "metadata": {},
   "outputs": [
    {
     "name": "stdout",
     "output_type": "stream",
     "text": [
      "Epoch [1/100], Step [140/140], Loss: 31.8285, Val Loss: 630.6490\n",
      "Epoch [2/100], Step [140/140], Loss: 30.9925, Val Loss: 633.2559\n",
      "Epoch [3/100], Step [140/140], Loss: 33.8004, Val Loss: 629.9344\n",
      "Epoch [4/100], Step [140/140], Loss: 29.2890, Val Loss: 658.4395\n",
      "Epoch [5/100], Step [140/140], Loss: 19.7429, Val Loss: 607.7736\n",
      "Epoch [6/100], Step [140/140], Loss: 18.7633, Val Loss: 609.1066\n",
      "Epoch [7/100], Step [140/140], Loss: 18.3273, Val Loss: 600.4003\n",
      "Epoch [8/100], Step [140/140], Loss: 28.7700, Val Loss: 591.7218\n",
      "Epoch [9/100], Step [140/140], Loss: 21.8709, Val Loss: 584.7125\n",
      "Epoch [10/100], Step [140/140], Loss: 19.9722, Val Loss: 582.5547\n",
      "Epoch [11/100], Step [140/140], Loss: 14.4074, Val Loss: 583.3260\n",
      "Epoch [12/100], Step [140/140], Loss: 25.3140, Val Loss: 593.6167\n",
      "Epoch [13/100], Step [140/140], Loss: 26.6008, Val Loss: 591.6006\n",
      "Epoch [14/100], Step [140/140], Loss: 32.0267, Val Loss: 593.4735\n",
      "Epoch [15/100], Step [140/140], Loss: 31.5638, Val Loss: 587.2151\n",
      "Early stopping triggered. Stopping training.\n"
     ]
    }
   ],
   "source": [
    "import torch\n",
    "\n",
    "# Parameters\n",
    "patience = 5  # Number of epochs to wait for improvement\n",
    "best_loss = float('inf')  # Initialize best loss\n",
    "patience_counter = 0  # Initialize patience counter\n",
    "\n",
    "for epoch in range(num_epochs):\n",
    "    model.train()  # Set the model to training mode\n",
    "    for i, (inputs, labels) in enumerate(train_loader):\n",
    "        \n",
    "        inputs = inputs.to(device)\n",
    "        labels = labels.unsqueeze(1).to(device)\n",
    "\n",
    "        # Forward pass\n",
    "        outputs = model(inputs)\n",
    "        loss = criterion(outputs, labels)\n",
    "\n",
    "        # Backward pass and optimization\n",
    "        optimizer.zero_grad()\n",
    "        loss.backward()\n",
    "        optimizer.step()\n",
    "\n",
    "    # Validation step\n",
    "    model.eval()  # Set the model to evaluation mode\n",
    "    with torch.no_grad():\n",
    "        val_loss = 0.0\n",
    "        for val_inputs, val_labels in val_loader:  # Assume you have a validation DataLoader\n",
    "            val_inputs = val_inputs.to(device)\n",
    "            val_labels = val_labels.unsqueeze(1).to(device)\n",
    "            val_outputs = model(val_inputs)\n",
    "            val_loss += criterion(val_outputs, val_labels).item()\n",
    "\n",
    "    val_loss /= len(val_loader)  # Average validation loss\n",
    "\n",
    "    print('Epoch [{}/{}], Step [{}/{}], Loss: {:.4f}, Val Loss: {:.4f}'.format(\n",
    "        epoch + 1, num_epochs, i + 1, len(train_loader), loss.item(), val_loss))\n",
    "\n",
    "    # Early stopping\n",
    "    if val_loss < best_loss:\n",
    "        best_loss = val_loss  # Update best loss\n",
    "        patience_counter = 0  # Reset patience counter\n",
    "        # Optionally save model\n",
    "        torch.save(model.state_dict(), 'best_model.pth')\n",
    "    else:\n",
    "        patience_counter += 1\n",
    "        if patience_counter >= patience:\n",
    "            print('Early stopping triggered. Stopping training.')\n",
    "            break"
   ]
  },
  {
   "cell_type": "code",
   "execution_count": 93,
   "id": "a1f71dc5-7a29-44d7-8230-9a6364cfce2d",
   "metadata": {},
   "outputs": [],
   "source": [
    "test_loader = create_data_loader(vali_df, window_size, 1)"
   ]
  },
  {
   "cell_type": "code",
   "execution_count": 97,
   "id": "72560e99-5470-4d9f-8384-c173e28c0b5c",
   "metadata": {},
   "outputs": [],
   "source": [
    "real = []\n",
    "preds = []\n",
    "\n",
    "model.to('cpu')\n",
    "\n",
    "for idx, (X, y) in enumerate(test_loader):\n",
    "    #if idx < 180: continue    \n",
    "    inputs = X\n",
    "    \n",
    "    outputs = model(inputs)\n",
    "    \n",
    "    pred = float(outputs)\n",
    "    y = float(y)\n",
    "\n",
    "    real.append(y)\n",
    "    preds.append(pred)\n",
    "    \n",
    "    if idx == 24:\n",
    "        break"
   ]
  },
  {
   "cell_type": "code",
   "execution_count": 98,
   "id": "6afe5db3-af73-4a7e-b7b4-43e1da07f654",
   "metadata": {},
   "outputs": [
    {
     "data": {
      "text/plain": [
       "[<matplotlib.lines.Line2D at 0x7efcf641a0e0>]"
      ]
     },
     "execution_count": 98,
     "metadata": {},
     "output_type": "execute_result"
    },
    {
     "data": {
      "image/png": "[encoded data removed]",
      "text/plain": [
       "<Figure size 640x480 with 1 Axes>"
      ]
     },
     "metadata": {},
     "output_type": "display_data"
    }
   ],
   "source": [
    "plt.plot(preds)\n",
    "plt.plot(real)"
   ]
  }
 ],
 "metadata": {
  "kernelspec": {
   "display_name": "Python 3 (ipykernel)",
   "language": "python",
   "name": "python3"
  },
  "language_info": {
   "codemirror_mode": {
    "name": "ipython",
    "version": 3
   },
   "file_extension": ".py",
   "mimetype": "text/x-python",
   "name": "python",
   "nbconvert_exporter": "python",
   "pygments_lexer": "ipython3",
   "version": "3.10.14"
  }
 },
 "nbformat": 4,
 "nbformat_minor": 5
}
