{
 "cells": [
  {
   "cell_type": "code",
   "execution_count": 1,
   "id": "02c4ec8c-4a14-4783-9f1b-fe43228789ef",
   "metadata": {},
   "outputs": [],
   "source": [
    "import sys\n",
    "import sktime\n",
    "import tqdm as tq\n",
    "import xgboost as xgb\n",
    "import matplotlib\n",
    "import seaborn as sns\n",
    "import sklearn as skl\n",
    "import pandas as pd\n",
    "import numpy as np\n",
    "\n",
    "import matplotlib.pyplot as plt\n",
    "from tqdm import tqdm\n",
    "from sktime.forecasting.model_selection import temporal_train_test_split\n",
    "from sktime.utils.plotting import plot_series\n",
    "from xgboost import XGBRegressor"
   ]
  },
  {
   "cell_type": "code",
   "execution_count": 11,
   "id": "273a32f6-6619-475c-96af-47d234b79b3f",
   "metadata": {},
   "outputs": [],
   "source": [
    "base_path = \"/home/jinjinjara1022/\"\n",
    "\n",
    "weather_forecast_data_1 = pd.read_csv(base_path + \"OBIC/data/기상예측데이터_1.csv\")\n",
    "jeju_power_market_day_ahead = pd.read_csv(base_path + \"OBIC/data/제주전력시장_시장전기가격_하루전가격.csv\")"
   ]
  },
  {
   "cell_type": "code",
   "execution_count": 12,
   "id": "56720f79-ec92-4696-8e53-0e7ca0ec3d39",
   "metadata": {},
   "outputs": [
    {
     "name": "stderr",
     "output_type": "stream",
     "text": [
      "/tmp/ipykernel_882043/1489643764.py:2: FutureWarning: The behavior of 'to_datetime' with 'unit' when parsing strings is deprecated. In a future version, strings will be parsed as datetime strings, matching the behavior without a 'unit'. To retain the old behavior, explicitly cast ints or floats to numeric type before calling to_datetime.\n",
      "  weather_forecast_data_1['ts'] =  pd.to_datetime(weather_forecast_data_1['ts'], unit='s')\n",
      "/tmp/ipykernel_882043/1489643764.py:3: FutureWarning: The behavior of 'to_datetime' with 'unit' when parsing strings is deprecated. In a future version, strings will be parsed as datetime strings, matching the behavior without a 'unit'. To retain the old behavior, explicitly cast ints or floats to numeric type before calling to_datetime.\n",
      "  weather_forecast_data_1['base_ts'] = pd.to_datetime(weather_forecast_data_1['base_ts'], unit='s')\n"
     ]
    }
   ],
   "source": [
    "weather_forecast_data_1 = weather_forecast_data_1[weather_forecast_data_1['location'] != 'location']\n",
    "weather_forecast_data_1['ts'] =  pd.to_datetime(weather_forecast_data_1['ts'], unit='s')\n",
    "weather_forecast_data_1['base_ts'] = pd.to_datetime(weather_forecast_data_1['base_ts'], unit='s')\n",
    "\n",
    "columns_to_average = [\n",
    "    'temp', 'real_feel_temp', 'wet_bulb_temp', 'dew_point', \n",
    "    'wind_dir', 'wind_spd', 'wind_gust_spd', 'rel_hum', 'vis', \n",
    "    'ceiling', 'uv_idx', 'precip_prob', 'rain_prob', 'snow_prob', \n",
    "    'ice_prob', 'total_liq', 'rain', 'snow', 'ice', 'cld_cvr'\n",
    "]\n",
    "\n",
    "weather_forecast_data_1[columns_to_average] = weather_forecast_data_1[columns_to_average].apply(pd.to_numeric, errors='coerce')\n",
    "\n",
    "\n",
    "average_df = weather_forecast_data_1.groupby('ts', as_index=False)[columns_to_average].mean()\n",
    "weather_df = average_df"
   ]
  },
  {
   "cell_type": "code",
   "execution_count": 13,
   "id": "86c2f9eb-8bae-4a12-a4ab-11ef8b1671f9",
   "metadata": {},
   "outputs": [],
   "source": [
    "ahead_df = jeju_power_market_day_ahead\n",
    "ahead_df['ts'] = pd.to_datetime(ahead_df['ts'], unit='s')"
   ]
  },
  {
   "cell_type": "code",
   "execution_count": 14,
   "id": "2eee72ff-f7f1-4e3b-b6c9-7512bf378c46",
   "metadata": {},
   "outputs": [],
   "source": [
    "df = pd.merge(weather_df, ahead_df, on='ts')"
   ]
  },
  {
   "cell_type": "code",
   "execution_count": 15,
   "id": "327c4948-db0d-4335-ad04-d41a87141ffa",
   "metadata": {},
   "outputs": [],
   "source": [
    "df['hour'] = df['ts'].dt.hour\n",
    "# df['hour_sin'] = np.sin(2 * np.pi * df['hour'] / 24)\n",
    "# df['hour_cos'] = np.cos(2 * np.pi * df['hour'] / 24)\n",
    "\n",
    "df['month'] = df['ts'].dt.month\n",
    "# df['month_sin'] = np.sin(2 * np.pi * df['month'] / 12)\n",
    "# df['month_cos'] = np.cos(2 * np.pi * df['month'] / 12)\n",
    "\n",
    "df['day_of_week'] = df['ts'].dt.dayofweek\n",
    "# df['day_of_week_sin'] = np.sin(2 * np.pi * df['day_of_week'] / 7)\n",
    "# df['day_of_week_cos'] = np.cos(2 * np.pi * df['day_of_week'] / 7)\n",
    "\n",
    "#df = df.drop(['ts', 'hour', 'month', 'day_of_week'], axis=1)\n",
    "df = df[[col for col in df.columns if col != '하루전가격(원/kWh)'] + ['하루전가격(원/kWh)']]\n",
    "\n",
    "df.rename(columns={\n",
    "    '하루전가격(원/kWh)': 'previous_price_kwh'\n",
    "}, inplace=True)\n",
    "\n",
    "df['previous_day_price'] = df['previous_price_kwh'].shift(24)\n",
    "df['previous_2day_price'] = df['previous_price_kwh'].shift(48)\n",
    "df['previous_3day_price'] = df['previous_price_kwh'].shift(72)"
   ]
  },
  {
   "cell_type": "code",
   "execution_count": 16,
   "id": "f82a9ef0-7c5a-49d2-b6a6-60e50527f90d",
   "metadata": {},
   "outputs": [
    {
     "name": "stdout",
     "output_type": "stream",
     "text": [
      "<class 'pandas.core.frame.DataFrame'>\n",
      "RangeIndex: 5641 entries, 0 to 5640\n",
      "Data columns (total 28 columns):\n",
      " #   Column               Non-Null Count  Dtype         \n",
      "---  ------               --------------  -----         \n",
      " 0   ts                   5641 non-null   datetime64[ns]\n",
      " 1   temp                 5641 non-null   float64       \n",
      " 2   real_feel_temp       5641 non-null   float64       \n",
      " 3   wet_bulb_temp        5641 non-null   float64       \n",
      " 4   dew_point            5641 non-null   float64       \n",
      " 5   wind_dir             5641 non-null   float64       \n",
      " 6   wind_spd             5641 non-null   float64       \n",
      " 7   wind_gust_spd        5641 non-null   float64       \n",
      " 8   rel_hum              5641 non-null   float64       \n",
      " 9   vis                  5641 non-null   float64       \n",
      " 10  ceiling              5641 non-null   float64       \n",
      " 11  uv_idx               5641 non-null   float64       \n",
      " 12  precip_prob          5641 non-null   float64       \n",
      " 13  rain_prob            5641 non-null   float64       \n",
      " 14  snow_prob            5641 non-null   float64       \n",
      " 15  ice_prob             5641 non-null   float64       \n",
      " 16  total_liq            5641 non-null   float64       \n",
      " 17  rain                 5641 non-null   float64       \n",
      " 18  snow                 5641 non-null   float64       \n",
      " 19  ice                  5641 non-null   float64       \n",
      " 20  cld_cvr              5641 non-null   float64       \n",
      " 21  hour                 5641 non-null   int32         \n",
      " 22  month                5641 non-null   int32         \n",
      " 23  day_of_week          5641 non-null   int32         \n",
      " 24  previous_price_kwh   5641 non-null   float64       \n",
      " 25  previous_day_price   5617 non-null   float64       \n",
      " 26  previous_2day_price  5593 non-null   float64       \n",
      " 27  previous_3day_price  5569 non-null   float64       \n",
      "dtypes: datetime64[ns](1), float64(24), int32(3)\n",
      "memory usage: 1.1 MB\n"
     ]
    }
   ],
   "source": [
    "df.info()"
   ]
  },
  {
   "cell_type": "code",
   "execution_count": 20,
   "id": "ba5725f5-dfde-40c2-8697-5adff8a55d77",
   "metadata": {},
   "outputs": [
    {
     "data": {
      "text/plain": [
       "ts                     2024-03-05 19:00:00\n",
       "temp                              9.938267\n",
       "real_feel_temp                    3.580247\n",
       "wet_bulb_temp                     8.580246\n",
       "dew_point                         7.037039\n",
       "wind_dir                             339.0\n",
       "wind_spd                         35.226756\n",
       "wind_gust_spd                    61.298133\n",
       "rel_hum                          82.777778\n",
       "vis                              14.126458\n",
       "ceiling                        4809.066667\n",
       "uv_idx                                 0.0\n",
       "precip_prob                      10.444444\n",
       "rain_prob                        10.444444\n",
       "snow_prob                              0.0\n",
       "ice_prob                               0.0\n",
       "total_liq                         0.028222\n",
       "rain                              0.028222\n",
       "snow                                   0.0\n",
       "ice                                    0.0\n",
       "cld_cvr                          74.222222\n",
       "hour                                    19\n",
       "month                                    3\n",
       "day_of_week                              1\n",
       "previous_price_kwh                  164.31\n",
       "previous_day_price                    94.8\n",
       "previous_2day_price                  80.97\n",
       "previous_3day_price                  82.66\n",
       "Name: 100, dtype: object"
      ]
     },
     "execution_count": 20,
     "metadata": {},
     "output_type": "execute_result"
    }
   ],
   "source": [
    "df[100:].iloc[0]"
   ]
  },
  {
   "cell_type": "code",
   "execution_count": 21,
   "id": "4103a976-bf5b-4a23-94ad-6baa4681afb3",
   "metadata": {},
   "outputs": [
    {
     "data": {
      "application/vnd.jupyter.widget-view+json": {
       "model_id": "bbe2fbf7e11a43c4b17327bd614ff631",
       "version_major": 2,
       "version_minor": 0
      },
      "text/plain": [
       "tokenizer_config.json:   0%|          | 0.00/48.0 [00:00<?, ?B/s]"
      ]
     },
     "metadata": {},
     "output_type": "display_data"
    },
    {
     "data": {
      "application/vnd.jupyter.widget-view+json": {
       "model_id": "8782b3abb97d41d2bff4b872286a5de6",
       "version_major": 2,
       "version_minor": 0
      },
      "text/plain": [
       "config.json:   0%|          | 0.00/483 [00:00<?, ?B/s]"
      ]
     },
     "metadata": {},
     "output_type": "display_data"
    },
    {
     "data": {
      "application/vnd.jupyter.widget-view+json": {
       "model_id": "1bc65ec6a74641d2b03773866be12271",
       "version_major": 2,
       "version_minor": 0
      },
      "text/plain": [
       "vocab.txt:   0%|          | 0.00/232k [00:00<?, ?B/s]"
      ]
     },
     "metadata": {},
     "output_type": "display_data"
    },
    {
     "data": {
      "application/vnd.jupyter.widget-view+json": {
       "model_id": "c14f7a6de9d9424d8225d860a9d9178c",
       "version_major": 2,
       "version_minor": 0
      },
      "text/plain": [
       "tokenizer.json:   0%|          | 0.00/466k [00:00<?, ?B/s]"
      ]
     },
     "metadata": {},
     "output_type": "display_data"
    },
    {
     "name": "stderr",
     "output_type": "stream",
     "text": [
      "/home/jinjinjara1022/.local/lib/python3.10/site-packages/transformers/tokenization_utils_base.py:1601: FutureWarning: `clean_up_tokenization_spaces` was not set. It will be set to `True` by default. This behavior will be depracted in transformers v4.45, and will be then set to `False` by default. For more details check this issue: https://github.com/huggingface/transformers/issues/31884\n",
      "  warnings.warn(\n"
     ]
    },
    {
     "data": {
      "application/vnd.jupyter.widget-view+json": {
       "model_id": "13947f0a2ac449e0a092bb5302def788",
       "version_major": 2,
       "version_minor": 0
      },
      "text/plain": [
       "model.safetensors:   0%|          | 0.00/268M [00:00<?, ?B/s]"
      ]
     },
     "metadata": {},
     "output_type": "display_data"
    },
    {
     "name": "stderr",
     "output_type": "stream",
     "text": [
      "Some weights of DistilBertForSequenceClassification were not initialized from the model checkpoint at distilbert-base-uncased and are newly initialized: ['classifier.bias', 'classifier.weight', 'pre_classifier.bias', 'pre_classifier.weight']\n",
      "You should probably TRAIN this model on a down-stream task to be able to use it for predictions and inference.\n"
     ]
    }
   ],
   "source": [
    "from transformers import AutoTokenizer, AutoModelForSequenceClassification\n",
    "\n",
    "model_name = 'distilbert-base-uncased'  # 사용할 모델 선택\n",
    "tokenizer = AutoTokenizer.from_pretrained(model_name)\n",
    "model = AutoModelForSequenceClassification.from_pretrained(model_name, num_labels=1)  # 회귀 문제이므로 num_labels=1"
   ]
  },
  {
   "cell_type": "code",
   "execution_count": null,
   "id": "0095b7b7-d05d-4b0b-be84-aa367b2a0763",
   "metadata": {},
   "outputs": [],
   "source": []
  }
 ],
 "metadata": {
  "kernelspec": {
   "display_name": "Python 3 (ipykernel)",
   "language": "python",
   "name": "python3"
  },
  "language_info": {
   "codemirror_mode": {
    "name": "ipython",
    "version": 3
   },
   "file_extension": ".py",
   "mimetype": "text/x-python",
   "name": "python",
   "nbconvert_exporter": "python",
   "pygments_lexer": "ipython3",
   "version": "3.10.15"
  }
 },
 "nbformat": 4,
 "nbformat_minor": 5
}
