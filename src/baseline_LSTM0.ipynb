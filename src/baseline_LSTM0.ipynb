{
 "cells": [
  {
   "cell_type": "markdown",
   "id": "d2b2a626-1ddf-4557-9ddd-f2ad322e1f89",
   "metadata": {},
   "source": [
    "## Import"
   ]
  },
  {
   "cell_type": "code",
   "execution_count": 1,
   "id": "461fed29-3846-48b0-97f9-9e308aec9d39",
   "metadata": {},
   "outputs": [],
   "source": [
    "import pandas as pd\n",
    "import numpy as np\n",
    "import random\n",
    "import os\n",
    "\n",
    "from sklearn.preprocessing import MinMaxScaler\n",
    "from sklearn.preprocessing import LabelEncoder\n",
    "\n",
    "import torch\n",
    "import torch.nn as nn\n",
    "from torch.utils.data import Dataset, DataLoader \n",
    "\n",
    "from tqdm.auto import tqdm\n",
    "import matplotlib.pyplot as plt"
   ]
  },
  {
   "cell_type": "markdown",
   "id": "55b82638-d582-4247-9f7b-875d0b61ccc0",
   "metadata": {},
   "source": [
    "## Fixed Random Seed"
   ]
  },
  {
   "cell_type": "code",
   "execution_count": 2,
   "id": "1e51a562-6a1d-4e0b-9871-4231650346dd",
   "metadata": {},
   "outputs": [],
   "source": [
    "def seed_everything(seed):\n",
    "    random.seed(seed)\n",
    "    os.environ['PYTHONHASHSEED'] = str(seed)\n",
    "    np.random.seed(seed)\n",
    "    torch.manual_seed(seed)\n",
    "    torch.cuda.manual_seed(seed)\n",
    "    torch.backends.cudnn.deterministic = True\n",
    "    torch.backends.cudnn.benchmark = True\n",
    "\n",
    "seed_everything(42)"
   ]
  },
  {
   "cell_type": "markdown",
   "id": "403db64e-67ae-40db-9f8a-d8aa7cd6913c",
   "metadata": {},
   "source": [
    "## Data Load"
   ]
  },
  {
   "cell_type": "code",
   "execution_count": 32,
   "id": "04214d01-21d1-4d93-9442-1e579d60ca3a",
   "metadata": {},
   "outputs": [],
   "source": [
    "base_path = \"/home/jinjinjara1022/\"\n",
    "\n",
    "weather_forecast_data_1 = pd.read_csv(base_path + \"OBIC/data/기상예측데이터_1.csv\")\n",
    "weather_forecast_data_2 = pd.read_csv(base_path + \"OBIC/data/기상예측데이터_2.csv\")  \n",
    "\n",
    "weather_observed_data_1 = pd.read_csv(base_path + \"OBIC/data/기상실측데이터_1.csv\")\n",
    "weather_observed_data_2 = pd.read_csv(base_path + \"OBIC/data/기상실측데이터_2.csv\")  \n",
    "  \n",
    "jeju_power_market_day_ahead = pd.read_csv(base_path + \"OBIC/data/제주전력시장_시장전기가격_하루전가격.csv\")\n",
    "jeju_power_market_real_time = pd.read_csv(base_path + \"OBIC/data/제주전력시장_시장전기가격_실시간가격.csv\")\n",
    "\n",
    "jeju_power_market_status = pd.read_csv(base_path + \"OBIC/data/제주전력시장_현황데이터.csv\")"
   ]
  },
  {
   "cell_type": "markdown",
   "id": "ff4d5843-1ef1-41e8-93b7-9a65067ae55f",
   "metadata": {},
   "source": [
    "## Data preprocessing"
   ]
  },
  {
   "cell_type": "code",
   "execution_count": 33,
   "id": "53faf9a2-ea9e-4f45-ad3a-c23963817414",
   "metadata": {},
   "outputs": [],
   "source": [
    "df = jeju_power_market_day_ahead"
   ]
  },
  {
   "cell_type": "code",
   "execution_count": 34,
   "id": "08e24e20-e170-4dff-a18d-a7a3c2d1e648",
   "metadata": {},
   "outputs": [],
   "source": [
    "df['datetimes'] = pd.to_datetime(df['ts'], unit='s')\n",
    "\n",
    "# 3. 월, 일, 시각 열 추가\n",
    "df['month'] = df['datetimes'].dt.month\n",
    "df['day'] = df['datetimes'].dt.day\n",
    "df['hour'] = df['datetimes'].dt.hour\n",
    "\n",
    "df = df[[col for col in df.columns if col != '하루전가격(원/kWh)'] + ['하루전가격(원/kWh)']]"
   ]
  },
  {
   "cell_type": "code",
   "execution_count": 35,
   "id": "784de4d6-fd0d-405d-bfef-f3ba13232b46",
   "metadata": {},
   "outputs": [],
   "source": [
    "df = df.drop(['ts', 'datetimes', 'month', 'day'], axis=1)"
   ]
  },
  {
   "cell_type": "code",
   "execution_count": 36,
   "id": "02c95ae2-7028-4b9e-b922-2dfb76040323",
   "metadata": {},
   "outputs": [],
   "source": [
    "df['hour_sin'] = np.sin(2 * np.pi * df['hour'] / 24)\n",
    "df['hour_cos'] = np.cos(2 * np.pi * df['hour'] / 24)"
   ]
  },
  {
   "cell_type": "code",
   "execution_count": 37,
   "id": "fe263849-8a4e-4f11-af55-605a2d60b3f0",
   "metadata": {},
   "outputs": [],
   "source": [
    "df = df.drop(['hour'], axis=1)"
   ]
  },
  {
   "cell_type": "code",
   "execution_count": 38,
   "id": "7ef2d18e-b73c-4279-8873-ef28f5394e4a",
   "metadata": {},
   "outputs": [],
   "source": [
    "df = df[[col for col in df.columns if col != '하루전가격(원/kWh)'] + ['하루전가격(원/kWh)']]"
   ]
  },
  {
   "cell_type": "code",
   "execution_count": 39,
   "id": "48ef3c8d-0b39-48cf-944e-3af2008d9399",
   "metadata": {},
   "outputs": [],
   "source": [
    "train_df = df[:int(len(df) * 0.8)]\n",
    "vali_df = df[int(len(df) * 0.8):]"
   ]
  },
  {
   "cell_type": "code",
   "execution_count": 40,
   "id": "3dd03290-41e5-4d35-9559-aeb7c2377c4c",
   "metadata": {},
   "outputs": [
    {
     "data": {
      "text/html": [
       "<div>\n",
       "<style scoped>\n",
       "    .dataframe tbody tr th:only-of-type {\n",
       "        vertical-align: middle;\n",
       "    }\n",
       "\n",
       "    .dataframe tbody tr th {\n",
       "        vertical-align: top;\n",
       "    }\n",
       "\n",
       "    .dataframe thead th {\n",
       "        text-align: right;\n",
       "    }\n",
       "</style>\n",
       "<table border=\"1\" class=\"dataframe\">\n",
       "  <thead>\n",
       "    <tr style=\"text-align: right;\">\n",
       "      <th></th>\n",
       "      <th>hour_sin</th>\n",
       "      <th>hour_cos</th>\n",
       "      <th>하루전가격(원/kWh)</th>\n",
       "    </tr>\n",
       "  </thead>\n",
       "  <tbody>\n",
       "    <tr>\n",
       "      <th>0</th>\n",
       "      <td>-0.707107</td>\n",
       "      <td>-7.071068e-01</td>\n",
       "      <td>107.39</td>\n",
       "    </tr>\n",
       "    <tr>\n",
       "      <th>1</th>\n",
       "      <td>-0.866025</td>\n",
       "      <td>-5.000000e-01</td>\n",
       "      <td>107.39</td>\n",
       "    </tr>\n",
       "    <tr>\n",
       "      <th>2</th>\n",
       "      <td>-0.965926</td>\n",
       "      <td>-2.588190e-01</td>\n",
       "      <td>95.30</td>\n",
       "    </tr>\n",
       "    <tr>\n",
       "      <th>3</th>\n",
       "      <td>-1.000000</td>\n",
       "      <td>-1.836970e-16</td>\n",
       "      <td>87.89</td>\n",
       "    </tr>\n",
       "    <tr>\n",
       "      <th>4</th>\n",
       "      <td>-0.965926</td>\n",
       "      <td>2.588190e-01</td>\n",
       "      <td>0.00</td>\n",
       "    </tr>\n",
       "    <tr>\n",
       "      <th>...</th>\n",
       "      <td>...</td>\n",
       "      <td>...</td>\n",
       "      <td>...</td>\n",
       "    </tr>\n",
       "    <tr>\n",
       "      <th>4527</th>\n",
       "      <td>1.000000</td>\n",
       "      <td>6.123234e-17</td>\n",
       "      <td>150.69</td>\n",
       "    </tr>\n",
       "    <tr>\n",
       "      <th>4528</th>\n",
       "      <td>0.965926</td>\n",
       "      <td>-2.588190e-01</td>\n",
       "      <td>152.93</td>\n",
       "    </tr>\n",
       "    <tr>\n",
       "      <th>4529</th>\n",
       "      <td>0.866025</td>\n",
       "      <td>-5.000000e-01</td>\n",
       "      <td>152.93</td>\n",
       "    </tr>\n",
       "    <tr>\n",
       "      <th>4530</th>\n",
       "      <td>0.707107</td>\n",
       "      <td>-7.071068e-01</td>\n",
       "      <td>160.70</td>\n",
       "    </tr>\n",
       "    <tr>\n",
       "      <th>4531</th>\n",
       "      <td>0.500000</td>\n",
       "      <td>-8.660254e-01</td>\n",
       "      <td>161.03</td>\n",
       "    </tr>\n",
       "  </tbody>\n",
       "</table>\n",
       "<p>4532 rows × 3 columns</p>\n",
       "</div>"
      ],
      "text/plain": [
       "      hour_sin      hour_cos  하루전가격(원/kWh)\n",
       "0    -0.707107 -7.071068e-01        107.39\n",
       "1    -0.866025 -5.000000e-01        107.39\n",
       "2    -0.965926 -2.588190e-01         95.30\n",
       "3    -1.000000 -1.836970e-16         87.89\n",
       "4    -0.965926  2.588190e-01          0.00\n",
       "...        ...           ...           ...\n",
       "4527  1.000000  6.123234e-17        150.69\n",
       "4528  0.965926 -2.588190e-01        152.93\n",
       "4529  0.866025 -5.000000e-01        152.93\n",
       "4530  0.707107 -7.071068e-01        160.70\n",
       "4531  0.500000 -8.660254e-01        161.03\n",
       "\n",
       "[4532 rows x 3 columns]"
      ]
     },
     "execution_count": 40,
     "metadata": {},
     "output_type": "execute_result"
    }
   ],
   "source": [
    "train_df"
   ]
  },
  {
   "cell_type": "code",
   "execution_count": 41,
   "id": "ffb681a7-8c99-4c9f-ac94-d39f426a2e6a",
   "metadata": {},
   "outputs": [],
   "source": [
    "input_size = 3  # feature의 개수\n",
    "hidden_size = 32\n",
    "num_layers = 2\n",
    "output_size = 1\n",
    "num_epochs = 100\n",
    "window_size = 48  # 예측에 사용될 시간 윈도우 크기\n",
    "batch_size = 32\n",
    "learning_rate = 0.001"
   ]
  },
  {
   "cell_type": "code",
   "execution_count": 42,
   "id": "0825379d-9b3a-452a-82a9-0d9f6405438a",
   "metadata": {},
   "outputs": [],
   "source": [
    "import torch\n",
    "from torch.utils.data import Dataset, DataLoader\n",
    "import pandas as pd\n",
    "\n",
    "class TimeSeriesDataset(Dataset):\n",
    "    def __init__(self, df, window_size):\n",
    "        self.df = df.values\n",
    "        self.window_size = window_size\n",
    "\n",
    "    def __len__(self):\n",
    "        return len(self.df) - self.window_size\n",
    "\n",
    "    def __getitem__(self, idx):\n",
    "        x = torch.tensor(self.df[idx:idx+self.window_size, :], dtype=torch.float)\n",
    "        y = torch.tensor(self.df[idx+self.window_size, -1], dtype=torch.float)  # 예측할 열이 마지막 열에 있다고 가정\n",
    "        return x, y\n",
    "\n",
    "def create_data_loader(df, window_size, batch_size):\n",
    "    dataset = TimeSeriesDataset(df, window_size)\n",
    "    data_loader = DataLoader(dataset, batch_size=batch_size, shuffle=False)\n",
    "    return data_loader\n",
    "\n",
    "\n",
    "train_loader = create_data_loader(train_df, window_size, batch_size)"
   ]
  },
  {
   "cell_type": "code",
   "execution_count": 43,
   "id": "15d602ae-898a-42c7-a607-9b86b110a43e",
   "metadata": {},
   "outputs": [],
   "source": [
    "class LSTM(nn.Module):\n",
    "    def __init__(self, input_size, hidden_size, num_layers, output_size):\n",
    "        super(LSTM, self).__init__()\n",
    "\n",
    "        self.hidden_size = hidden_size\n",
    "        self.num_layers = num_layers\n",
    "\n",
    "        self.lstm = nn.LSTM(input_size, hidden_size, num_layers, batch_first=True)\n",
    "        self.fc = nn.Linear(hidden_size, output_size)\n",
    "\n",
    "    def forward(self, x):\n",
    "        h0 = torch.zeros(self.num_layers, x.size(0), self.hidden_size).to(x.device) \n",
    "        c0 = torch.zeros(self.num_layers, x.size(0), self.hidden_size).to(x.device)\n",
    "\n",
    "        out, _ = self.lstm(x, (h0, c0))\n",
    "        out = self.fc(out[:, -1, :])\n",
    "\n",
    "        return out"
   ]
  },
  {
   "cell_type": "code",
   "execution_count": 44,
   "id": "935e7073-e81a-4906-b804-5da2d63f2071",
   "metadata": {},
   "outputs": [
    {
     "name": "stdout",
     "output_type": "stream",
     "text": [
      "current device: cuda\n"
     ]
    }
   ],
   "source": [
    "device = torch.device('cuda' if torch.cuda.is_available() else 'cpu')\n",
    "print(f\"current device: {device}\")\n",
    "\n",
    "model = LSTM(input_size, hidden_size, num_layers, output_size).to(device)\n",
    "\n",
    "criterion = nn.MSELoss()\n",
    "optimizer = torch.optim.Adam(model.parameters(), lr=learning_rate)"
   ]
  },
  {
   "cell_type": "code",
   "execution_count": 45,
   "id": "1c4ac4e6-84f1-4c94-a37e-138601225505",
   "metadata": {
    "scrolled": true
   },
   "outputs": [
    {
     "name": "stdout",
     "output_type": "stream",
     "text": [
      "Epoch [1/100], Step [141/141], Loss: 22251.0938\n",
      "Epoch [2/100], Step [141/141], Loss: 20702.2344\n",
      "Epoch [3/100], Step [141/141], Loss: 19361.2695\n",
      "Epoch [4/100], Step [141/141], Loss: 18127.2109\n",
      "Epoch [5/100], Step [141/141], Loss: 16973.6602\n",
      "Epoch [6/100], Step [141/141], Loss: 15887.7656\n",
      "Epoch [7/100], Step [141/141], Loss: 14858.1982\n",
      "Epoch [8/100], Step [141/141], Loss: 13877.7266\n",
      "Epoch [9/100], Step [141/141], Loss: 12947.2520\n",
      "Epoch [10/100], Step [141/141], Loss: 12065.1855\n",
      "Epoch [11/100], Step [141/141], Loss: 11230.7949\n",
      "Epoch [12/100], Step [141/141], Loss: 10441.6963\n",
      "Epoch [13/100], Step [141/141], Loss: 9696.3379\n",
      "Epoch [14/100], Step [141/141], Loss: 8992.4746\n",
      "Epoch [15/100], Step [141/141], Loss: 8328.5410\n",
      "Epoch [16/100], Step [141/141], Loss: 7702.9668\n",
      "Epoch [17/100], Step [141/141], Loss: 7113.8862\n",
      "Epoch [18/100], Step [141/141], Loss: 6560.3018\n",
      "Epoch [19/100], Step [141/141], Loss: 6040.6821\n",
      "Epoch [20/100], Step [141/141], Loss: 5553.9316\n",
      "Epoch [21/100], Step [141/141], Loss: 5098.2749\n",
      "Epoch [22/100], Step [141/141], Loss: 4673.2832\n",
      "Epoch [23/100], Step [141/141], Loss: 4276.7773\n",
      "Epoch [24/100], Step [141/141], Loss: 3908.3162\n",
      "Epoch [25/100], Step [141/141], Loss: 3566.3887\n",
      "Epoch [26/100], Step [141/141], Loss: 3249.8984\n",
      "Epoch [27/100], Step [141/141], Loss: 2957.4897\n",
      "Epoch [28/100], Step [141/141], Loss: 2688.3247\n",
      "Epoch [29/100], Step [141/141], Loss: 2441.2244\n",
      "Epoch [30/100], Step [141/141], Loss: 2215.3157\n",
      "Epoch [31/100], Step [141/141], Loss: 2009.2816\n",
      "Epoch [32/100], Step [141/141], Loss: 1822.2427\n",
      "Epoch [33/100], Step [141/141], Loss: 1653.3198\n",
      "Epoch [34/100], Step [141/141], Loss: 1501.0894\n",
      "Epoch [35/100], Step [141/141], Loss: 1364.7906\n",
      "Epoch [36/100], Step [141/141], Loss: 1243.0707\n",
      "Epoch [37/100], Step [141/141], Loss: 1135.0283\n",
      "Epoch [38/100], Step [141/141], Loss: 1039.5627\n",
      "Epoch [39/100], Step [141/141], Loss: 955.6732\n",
      "Epoch [40/100], Step [141/141], Loss: 882.2374\n",
      "Epoch [41/100], Step [141/141], Loss: 818.4759\n",
      "Epoch [42/100], Step [141/141], Loss: 763.6228\n",
      "Epoch [43/100], Step [141/141], Loss: 716.2823\n",
      "Epoch [44/100], Step [141/141], Loss: 675.8308\n",
      "Epoch [45/100], Step [141/141], Loss: 641.6567\n",
      "Epoch [46/100], Step [141/141], Loss: 612.7927\n",
      "Epoch [47/100], Step [141/141], Loss: 588.9720\n",
      "Epoch [48/100], Step [141/141], Loss: 568.9231\n",
      "Epoch [49/100], Step [141/141], Loss: 552.5974\n",
      "Epoch [50/100], Step [141/141], Loss: 539.4189\n",
      "Epoch [51/100], Step [141/141], Loss: 528.4897\n",
      "Epoch [52/100], Step [141/141], Loss: 519.8163\n",
      "Epoch [53/100], Step [141/141], Loss: 512.9301\n",
      "Epoch [54/100], Step [141/141], Loss: 507.2634\n",
      "Epoch [55/100], Step [141/141], Loss: 503.0239\n",
      "Epoch [56/100], Step [141/141], Loss: 499.6041\n",
      "Epoch [57/100], Step [141/141], Loss: 497.1772\n",
      "Epoch [58/100], Step [141/141], Loss: 493.6005\n",
      "Epoch [59/100], Step [141/141], Loss: 480.8263\n",
      "Epoch [60/100], Step [141/141], Loss: 449.6211\n",
      "Epoch [61/100], Step [141/141], Loss: 396.0222\n",
      "Epoch [62/100], Step [141/141], Loss: 337.7115\n",
      "Epoch [63/100], Step [141/141], Loss: 303.7045\n",
      "Epoch [64/100], Step [141/141], Loss: 235.0639\n",
      "Epoch [65/100], Step [141/141], Loss: 197.2061\n",
      "Epoch [66/100], Step [141/141], Loss: 164.1273\n",
      "Epoch [67/100], Step [141/141], Loss: 138.1485\n",
      "Epoch [68/100], Step [141/141], Loss: 117.4261\n",
      "Epoch [69/100], Step [141/141], Loss: 99.6213\n",
      "Epoch [70/100], Step [141/141], Loss: 84.7268\n",
      "Epoch [71/100], Step [141/141], Loss: 71.5977\n",
      "Epoch [72/100], Step [141/141], Loss: 70.5672\n",
      "Epoch [73/100], Step [141/141], Loss: 50.7649\n",
      "Epoch [74/100], Step [141/141], Loss: 46.5449\n",
      "Epoch [75/100], Step [141/141], Loss: 37.5906\n",
      "Epoch [76/100], Step [141/141], Loss: 33.2775\n",
      "Epoch [77/100], Step [141/141], Loss: 30.5789\n",
      "Epoch [78/100], Step [141/141], Loss: 25.0272\n",
      "Epoch [79/100], Step [141/141], Loss: 21.6922\n",
      "Epoch [80/100], Step [141/141], Loss: 19.5815\n",
      "Epoch [81/100], Step [141/141], Loss: 15.7941\n",
      "Epoch [82/100], Step [141/141], Loss: 15.9505\n",
      "Epoch [83/100], Step [141/141], Loss: 13.7811\n",
      "Epoch [84/100], Step [141/141], Loss: 14.3450\n",
      "Epoch [85/100], Step [141/141], Loss: 12.6985\n",
      "Epoch [86/100], Step [141/141], Loss: 13.0107\n",
      "Epoch [87/100], Step [141/141], Loss: 12.1251\n",
      "Epoch [88/100], Step [141/141], Loss: 12.1002\n",
      "Epoch [89/100], Step [141/141], Loss: 11.8251\n",
      "Epoch [90/100], Step [141/141], Loss: 11.4422\n",
      "Epoch [91/100], Step [141/141], Loss: 11.3014\n",
      "Epoch [92/100], Step [141/141], Loss: 10.9864\n",
      "Epoch [93/100], Step [141/141], Loss: 10.7012\n",
      "Epoch [94/100], Step [141/141], Loss: 10.3700\n",
      "Epoch [95/100], Step [141/141], Loss: 10.4506\n",
      "Epoch [96/100], Step [141/141], Loss: 9.8579\n",
      "Epoch [97/100], Step [141/141], Loss: 9.9894\n",
      "Epoch [98/100], Step [141/141], Loss: 9.4995\n",
      "Epoch [99/100], Step [141/141], Loss: 9.5086\n",
      "Epoch [100/100], Step [141/141], Loss: 9.6597\n"
     ]
    }
   ],
   "source": [
    "for epoch in range(num_epochs):\n",
    "    for i, (inputs, labels) in enumerate(train_loader):\n",
    "                \n",
    "        inputs = inputs.to(device)\n",
    "        labels = labels.unsqueeze(1).to(device)\n",
    "\n",
    "        # Forward\n",
    "        outputs = model(inputs)\n",
    "        loss = criterion(outputs, labels)\n",
    "\n",
    "        # Backward and optimize\n",
    "        optimizer.zero_grad()\n",
    "        loss.backward()\n",
    "        optimizer.step()\n",
    "\n",
    "    print('Epoch [{}/{}], Step [{}/{}], Loss: {:.4f}'.format(epoch+1, num_epochs, i+1, len(train_loader), loss.item()))"
   ]
  },
  {
   "cell_type": "code",
   "execution_count": 46,
   "id": "a1f71dc5-7a29-44d7-8230-9a6364cfce2d",
   "metadata": {},
   "outputs": [
    {
     "data": {
      "text/html": [
       "<div>\n",
       "<style scoped>\n",
       "    .dataframe tbody tr th:only-of-type {\n",
       "        vertical-align: middle;\n",
       "    }\n",
       "\n",
       "    .dataframe tbody tr th {\n",
       "        vertical-align: top;\n",
       "    }\n",
       "\n",
       "    .dataframe thead th {\n",
       "        text-align: right;\n",
       "    }\n",
       "</style>\n",
       "<table border=\"1\" class=\"dataframe\">\n",
       "  <thead>\n",
       "    <tr style=\"text-align: right;\">\n",
       "      <th></th>\n",
       "      <th>hour_sin</th>\n",
       "      <th>hour_cos</th>\n",
       "      <th>하루전가격(원/kWh)</th>\n",
       "    </tr>\n",
       "  </thead>\n",
       "  <tbody>\n",
       "    <tr>\n",
       "      <th>4532</th>\n",
       "      <td>2.588190e-01</td>\n",
       "      <td>-0.965926</td>\n",
       "      <td>161.03</td>\n",
       "    </tr>\n",
       "    <tr>\n",
       "      <th>4533</th>\n",
       "      <td>1.224647e-16</td>\n",
       "      <td>-1.000000</td>\n",
       "      <td>161.03</td>\n",
       "    </tr>\n",
       "    <tr>\n",
       "      <th>4534</th>\n",
       "      <td>-2.588190e-01</td>\n",
       "      <td>-0.965926</td>\n",
       "      <td>161.03</td>\n",
       "    </tr>\n",
       "    <tr>\n",
       "      <th>4535</th>\n",
       "      <td>-5.000000e-01</td>\n",
       "      <td>-0.866025</td>\n",
       "      <td>161.03</td>\n",
       "    </tr>\n",
       "    <tr>\n",
       "      <th>4536</th>\n",
       "      <td>-7.071068e-01</td>\n",
       "      <td>-0.707107</td>\n",
       "      <td>140.15</td>\n",
       "    </tr>\n",
       "    <tr>\n",
       "      <th>...</th>\n",
       "      <td>...</td>\n",
       "      <td>...</td>\n",
       "      <td>...</td>\n",
       "    </tr>\n",
       "    <tr>\n",
       "      <th>5660</th>\n",
       "      <td>2.588190e-01</td>\n",
       "      <td>-0.965926</td>\n",
       "      <td>156.68</td>\n",
       "    </tr>\n",
       "    <tr>\n",
       "      <th>5661</th>\n",
       "      <td>1.224647e-16</td>\n",
       "      <td>-1.000000</td>\n",
       "      <td>152.54</td>\n",
       "    </tr>\n",
       "    <tr>\n",
       "      <th>5662</th>\n",
       "      <td>-2.588190e-01</td>\n",
       "      <td>-0.965926</td>\n",
       "      <td>106.92</td>\n",
       "    </tr>\n",
       "    <tr>\n",
       "      <th>5663</th>\n",
       "      <td>-5.000000e-01</td>\n",
       "      <td>-0.866025</td>\n",
       "      <td>150.97</td>\n",
       "    </tr>\n",
       "    <tr>\n",
       "      <th>5664</th>\n",
       "      <td>-7.071068e-01</td>\n",
       "      <td>-0.707107</td>\n",
       "      <td>121.78</td>\n",
       "    </tr>\n",
       "  </tbody>\n",
       "</table>\n",
       "<p>1133 rows × 3 columns</p>\n",
       "</div>"
      ],
      "text/plain": [
       "          hour_sin  hour_cos  하루전가격(원/kWh)\n",
       "4532  2.588190e-01 -0.965926        161.03\n",
       "4533  1.224647e-16 -1.000000        161.03\n",
       "4534 -2.588190e-01 -0.965926        161.03\n",
       "4535 -5.000000e-01 -0.866025        161.03\n",
       "4536 -7.071068e-01 -0.707107        140.15\n",
       "...            ...       ...           ...\n",
       "5660  2.588190e-01 -0.965926        156.68\n",
       "5661  1.224647e-16 -1.000000        152.54\n",
       "5662 -2.588190e-01 -0.965926        106.92\n",
       "5663 -5.000000e-01 -0.866025        150.97\n",
       "5664 -7.071068e-01 -0.707107        121.78\n",
       "\n",
       "[1133 rows x 3 columns]"
      ]
     },
     "execution_count": 46,
     "metadata": {},
     "output_type": "execute_result"
    }
   ],
   "source": [
    "vali_df"
   ]
  },
  {
   "cell_type": "code",
   "execution_count": 47,
   "id": "422be82b-cdd1-489e-b4bb-ed909dc2755f",
   "metadata": {},
   "outputs": [],
   "source": [
    "test_loader = create_data_loader(vali_df, window_size, 1)"
   ]
  },
  {
   "cell_type": "code",
   "execution_count": 106,
   "id": "28e62048-14b5-4db9-b079-8279256cc963",
   "metadata": {},
   "outputs": [],
   "source": [
    "real = []\n",
    "preds = []\n",
    "\n",
    "for idx, (X, y) in enumerate(test_loader):\n",
    "    if idx < 180: continue\n",
    "    if pred:\n",
    "        inputs = X\n",
    "        inputs[0][-1][-1] = pred\n",
    "        outputs = model(inputs)\n",
    "    else:\n",
    "        inputs = X\n",
    "        outputs = model(inputs)\n",
    "    \n",
    "    pred = float(outputs)\n",
    "    y = float(y)\n",
    "\n",
    "    real.append(y)\n",
    "    preds.append(pred)\n",
    "    \n",
    "    if idx == 226:\n",
    "        break"
   ]
  },
  {
   "cell_type": "code",
   "execution_count": 107,
   "id": "6afe5db3-af73-4a7e-b7b4-43e1da07f654",
   "metadata": {},
   "outputs": [
    {
     "data": {
      "text/plain": [
       "[<matplotlib.lines.Line2D at 0x7f8d07be3550>]"
      ]
     },
     "execution_count": 107,
     "metadata": {},
     "output_type": "execute_result"
    },
    {
     "data": {
      "image/png": "[encoded data removed]",
      "text/plain": [
       "<Figure size 640x480 with 1 Axes>"
      ]
     },
     "metadata": {},
     "output_type": "display_data"
    }
   ],
   "source": [
    "plt.plot(preds)\n",
    "plt.plot(real)"
   ]
  },
  {
   "cell_type": "code",
   "execution_count": 108,
   "id": "cfd99583-a713-45c1-96eb-875ddedd528e",
   "metadata": {},
   "outputs": [],
   "source": [
    "real = []\n",
    "preds = []\n",
    "\n",
    "for idx, (X, y) in enumerate(test_loader):\n",
    "    if idx < 180: continue    \n",
    "    inputs = X\n",
    "    \n",
    "    outputs = model(inputs)\n",
    "    \n",
    "    pred = float(outputs)\n",
    "    y = float(y)\n",
    "\n",
    "    real.append(y)\n",
    "    preds.append(pred)\n",
    "    \n",
    "    if idx == 226:\n",
    "        break"
   ]
  },
  {
   "cell_type": "code",
   "execution_count": 109,
   "id": "a5c87424-c790-4724-abfc-03bfeba79d3c",
   "metadata": {},
   "outputs": [
    {
     "data": {
      "text/plain": [
       "[<matplotlib.lines.Line2D at 0x7f8d07c30b20>]"
      ]
     },
     "execution_count": 109,
     "metadata": {},
     "output_type": "execute_result"
    },
    {
     "data": {
      "image/png": "[encoded data removed]",
      "text/plain": [
       "<Figure size 640x480 with 1 Axes>"
      ]
     },
     "metadata": {},
     "output_type": "display_data"
    }
   ],
   "source": [
    "plt.plot(preds)\n",
    "plt.plot(real)"
   ]
  },
  {
   "cell_type": "code",
   "execution_count": null,
   "id": "b6aaa108-2205-4bed-b286-36b5fc739b75",
   "metadata": {},
   "outputs": [],
   "source": []
  }
 ],
 "metadata": {
  "kernelspec": {
   "display_name": "Python 3 (ipykernel)",
   "language": "python",
   "name": "python3"
  },
  "language_info": {
   "codemirror_mode": {
    "name": "ipython",
    "version": 3
   },
   "file_extension": ".py",
   "mimetype": "text/x-python",
   "name": "python",
   "nbconvert_exporter": "python",
   "pygments_lexer": "ipython3",
   "version": "3.10.15"
  }
 },
 "nbformat": 4,
 "nbformat_minor": 5
}
