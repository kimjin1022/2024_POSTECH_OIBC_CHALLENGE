{
 "cells": [
  {
   "cell_type": "code",
   "execution_count": 1,
   "id": "ed7fd7b4-461c-4da3-a833-becd6d799bd2",
   "metadata": {},
   "outputs": [],
   "source": [
    "import os\n",
    "import numpy as np\n",
    "import pandas as pd\n",
    "import matplotlib.pyplot as plt"
   ]
  },
  {
   "cell_type": "code",
   "execution_count": 143,
   "id": "b33ca610-b00f-47db-a2b3-81c6ef0c44a2",
   "metadata": {},
   "outputs": [],
   "source": [
    "base_path = \"/home/jinjinjara1022/\"\n",
    "\n",
    "weather_forecast_data_1 = pd.read_csv(base_path + \"OBIC/data/기상예측데이터_1.csv\")\n",
    "weather_forecast_data_2 = pd.read_csv(base_path + \"OBIC/data/기상예측데이터_2.csv\")  \n",
    "\n",
    "weather_observed_data_1 = pd.read_csv(base_path + \"OBIC/data/기상실측데이터_1.csv\")\n",
    "weather_observed_data_2 = pd.read_csv(base_path + \"OBIC/data/기상실측데이터_2.csv\")  \n",
    "  \n",
    "jeju_power_market_day_ahead = pd.read_csv(base_path + \"OBIC/data/제주전력시장_시장전기가격_하루전가격.csv\")\n",
    "jeju_power_market_real_time = pd.read_csv(base_path + \"OBIC/data/제주전력시장_시장전기가격_실시간가격.csv\")\n",
    "\n",
    "jeju_power_market_status = pd.read_csv(base_path + \"OBIC/data/제주전력시장_현황데이터.csv\")"
   ]
  },
  {
   "cell_type": "code",
   "execution_count": 144,
   "id": "49e832a7-36b6-47d1-b9c7-361cb91e7e53",
   "metadata": {},
   "outputs": [],
   "source": [
    "df = pd.merge(jeju_power_market_day_ahead, jeju_power_market_status, on='ts', how='left')"
   ]
  },
  {
   "cell_type": "code",
   "execution_count": 145,
   "id": "93cf8b7a-e963-45c9-a564-3d48606b16a6",
   "metadata": {},
   "outputs": [
    {
     "name": "stdout",
     "output_type": "stream",
     "text": [
      "<class 'pandas.core.frame.DataFrame'>\n",
      "RangeIndex: 5665 entries, 0 to 5664\n",
      "Data columns (total 9 columns):\n",
      " #   Column          Non-Null Count  Dtype  \n",
      "---  ------          --------------  -----  \n",
      " 0   ts              5665 non-null   int64  \n",
      " 1   하루전가격(원/kWh)    5665 non-null   float64\n",
      " 2   공급능력(kW)        5607 non-null   float64\n",
      " 3   현재 수요(kW)       5607 non-null   float64\n",
      " 4   태양광 발전량kW)      5607 non-null   float64\n",
      " 5   풍력 발전량(kW)      5607 non-null   float64\n",
      " 6   신재생 발전량 총합(kW)  5607 non-null   float64\n",
      " 7   공급 예비력(kW)      5607 non-null   float64\n",
      " 8   운영 예비력(kW)      5607 non-null   float64\n",
      "dtypes: float64(8), int64(1)\n",
      "memory usage: 398.4 KB\n"
     ]
    }
   ],
   "source": [
    "df.info()"
   ]
  },
  {
   "cell_type": "code",
   "execution_count": 146,
   "id": "caeef685-07a3-420d-b7a8-a32ce3c50e5e",
   "metadata": {},
   "outputs": [],
   "source": [
    "for column in df.columns:\n",
    "    if df[column].isnull().any():  # 결측값이 있는 열만 처리\n",
    "        df[column] = df[column].fillna(df[column].rolling(window=48, min_periods=1, center=True).mean())"
   ]
  },
  {
   "cell_type": "code",
   "execution_count": 147,
   "id": "222db651-9406-4ee8-b4b4-b1ec6a8a435f",
   "metadata": {},
   "outputs": [
    {
     "name": "stdout",
     "output_type": "stream",
     "text": [
      "<class 'pandas.core.frame.DataFrame'>\n",
      "RangeIndex: 5665 entries, 0 to 5664\n",
      "Data columns (total 9 columns):\n",
      " #   Column          Non-Null Count  Dtype  \n",
      "---  ------          --------------  -----  \n",
      " 0   ts              5665 non-null   int64  \n",
      " 1   하루전가격(원/kWh)    5665 non-null   float64\n",
      " 2   공급능력(kW)        5665 non-null   float64\n",
      " 3   현재 수요(kW)       5665 non-null   float64\n",
      " 4   태양광 발전량kW)      5665 non-null   float64\n",
      " 5   풍력 발전량(kW)      5665 non-null   float64\n",
      " 6   신재생 발전량 총합(kW)  5665 non-null   float64\n",
      " 7   공급 예비력(kW)      5665 non-null   float64\n",
      " 8   운영 예비력(kW)      5665 non-null   float64\n",
      "dtypes: float64(8), int64(1)\n",
      "memory usage: 398.4 KB\n"
     ]
    }
   ],
   "source": [
    "df.info()"
   ]
  },
  {
   "cell_type": "code",
   "execution_count": 148,
   "id": "1ef75397-53ba-4b1f-9139-2f7f47b488c7",
   "metadata": {},
   "outputs": [],
   "source": [
    "import pandas as pd\n",
    "from sklearn.preprocessing import MinMaxScaler\n",
    "\n",
    "features = df.iloc[:, 2:]\n",
    "\n",
    "scaler = MinMaxScaler()\n",
    "\n",
    "normalized_features = scaler.fit_transform(features)\n",
    "\n",
    "normalized_df = pd.DataFrame(normalized_features, columns=features.columns)\n",
    "\n",
    "final_df = pd.concat([df.iloc[:, :2], normalized_df], axis=1)\n",
    "\n",
    "final_df['시간'] = pd.to_datetime(final_df['ts'], unit='s').dt.hour\n",
    "\n",
    "# 시간대에 대한 사인과 코사인 변환\n",
    "final_df['sin_hour'] = np.sin(2 * np.pi * final_df['시간'] / 24)\n",
    "final_df['cos_hour'] = np.cos(2 * np.pi * final_df['시간'] / 24)\n",
    "\n",
    "final_df = final_df.drop(['ts', '시간'], axis=1)\n",
    "final_df = final_df[[col for col in final_df.columns if col != '하루전가격(원/kWh)'] + ['하루전가격(원/kWh)']]"
   ]
  },
  {
   "cell_type": "code",
   "execution_count": 152,
   "id": "d69cb0f2-d968-4f12-affc-4877151094be",
   "metadata": {},
   "outputs": [
    {
     "data": {
      "text/plain": [
       "Index(['공급능력(kW)', '현재 수요(kW)', '태양광 발전량kW)', '풍력 발전량(kW)', '신재생 발전량 총합(kW)',\n",
       "       '공급 예비력(kW)', '운영 예비력(kW)', 'sin_hour', 'cos_hour', '하루전가격(원/kWh)'],\n",
       "      dtype='object')"
      ]
     },
     "execution_count": 152,
     "metadata": {},
     "output_type": "execute_result"
    }
   ],
   "source": [
    "final_df.columns"
   ]
  },
  {
   "cell_type": "code",
   "execution_count": 157,
   "id": "f3704f69-226e-4c52-bad3-8dd677730b4f",
   "metadata": {},
   "outputs": [],
   "source": [
    "final_df = final_df[['운영 예비력(kW)', 'sin_hour', 'cos_hour', '하루전가격(원/kWh)']]"
   ]
  },
  {
   "cell_type": "code",
   "execution_count": 158,
   "id": "350138dd-f25c-4a3e-af85-8193efcedb1b",
   "metadata": {},
   "outputs": [],
   "source": [
    "train_df = final_df[:5000]\n",
    "test_df = final_df[5000:]"
   ]
  },
  {
   "cell_type": "code",
   "execution_count": 159,
   "id": "7c8a406f-23df-496e-b220-4879dd945cc2",
   "metadata": {},
   "outputs": [
    {
     "data": {
      "text/html": [
       "<div>\n",
       "<style scoped>\n",
       "    .dataframe tbody tr th:only-of-type {\n",
       "        vertical-align: middle;\n",
       "    }\n",
       "\n",
       "    .dataframe tbody tr th {\n",
       "        vertical-align: top;\n",
       "    }\n",
       "\n",
       "    .dataframe thead th {\n",
       "        text-align: right;\n",
       "    }\n",
       "</style>\n",
       "<table border=\"1\" class=\"dataframe\">\n",
       "  <thead>\n",
       "    <tr style=\"text-align: right;\">\n",
       "      <th></th>\n",
       "      <th>운영 예비력(kW)</th>\n",
       "      <th>sin_hour</th>\n",
       "      <th>cos_hour</th>\n",
       "      <th>하루전가격(원/kWh)</th>\n",
       "    </tr>\n",
       "  </thead>\n",
       "  <tbody>\n",
       "    <tr>\n",
       "      <th>0</th>\n",
       "      <td>0.283742</td>\n",
       "      <td>-0.707107</td>\n",
       "      <td>-7.071068e-01</td>\n",
       "      <td>107.39</td>\n",
       "    </tr>\n",
       "    <tr>\n",
       "      <th>1</th>\n",
       "      <td>0.300613</td>\n",
       "      <td>-0.866025</td>\n",
       "      <td>-5.000000e-01</td>\n",
       "      <td>107.39</td>\n",
       "    </tr>\n",
       "    <tr>\n",
       "      <th>2</th>\n",
       "      <td>0.400307</td>\n",
       "      <td>-0.965926</td>\n",
       "      <td>-2.588190e-01</td>\n",
       "      <td>95.30</td>\n",
       "    </tr>\n",
       "    <tr>\n",
       "      <th>3</th>\n",
       "      <td>0.371166</td>\n",
       "      <td>-1.000000</td>\n",
       "      <td>-1.836970e-16</td>\n",
       "      <td>87.89</td>\n",
       "    </tr>\n",
       "    <tr>\n",
       "      <th>4</th>\n",
       "      <td>0.331288</td>\n",
       "      <td>-0.965926</td>\n",
       "      <td>2.588190e-01</td>\n",
       "      <td>0.00</td>\n",
       "    </tr>\n",
       "    <tr>\n",
       "      <th>...</th>\n",
       "      <td>...</td>\n",
       "      <td>...</td>\n",
       "      <td>...</td>\n",
       "      <td>...</td>\n",
       "    </tr>\n",
       "    <tr>\n",
       "      <th>4995</th>\n",
       "      <td>0.369632</td>\n",
       "      <td>-1.000000</td>\n",
       "      <td>-1.836970e-16</td>\n",
       "      <td>106.43</td>\n",
       "    </tr>\n",
       "    <tr>\n",
       "      <th>4996</th>\n",
       "      <td>0.349693</td>\n",
       "      <td>-0.965926</td>\n",
       "      <td>2.588190e-01</td>\n",
       "      <td>106.20</td>\n",
       "    </tr>\n",
       "    <tr>\n",
       "      <th>4997</th>\n",
       "      <td>0.349693</td>\n",
       "      <td>-0.866025</td>\n",
       "      <td>5.000000e-01</td>\n",
       "      <td>106.17</td>\n",
       "    </tr>\n",
       "    <tr>\n",
       "      <th>4998</th>\n",
       "      <td>0.320552</td>\n",
       "      <td>-0.707107</td>\n",
       "      <td>7.071068e-01</td>\n",
       "      <td>106.40</td>\n",
       "    </tr>\n",
       "    <tr>\n",
       "      <th>4999</th>\n",
       "      <td>0.254601</td>\n",
       "      <td>-0.500000</td>\n",
       "      <td>8.660254e-01</td>\n",
       "      <td>107.44</td>\n",
       "    </tr>\n",
       "  </tbody>\n",
       "</table>\n",
       "<p>5000 rows × 4 columns</p>\n",
       "</div>"
      ],
      "text/plain": [
       "      운영 예비력(kW)  sin_hour      cos_hour  하루전가격(원/kWh)\n",
       "0       0.283742 -0.707107 -7.071068e-01        107.39\n",
       "1       0.300613 -0.866025 -5.000000e-01        107.39\n",
       "2       0.400307 -0.965926 -2.588190e-01         95.30\n",
       "3       0.371166 -1.000000 -1.836970e-16         87.89\n",
       "4       0.331288 -0.965926  2.588190e-01          0.00\n",
       "...          ...       ...           ...           ...\n",
       "4995    0.369632 -1.000000 -1.836970e-16        106.43\n",
       "4996    0.349693 -0.965926  2.588190e-01        106.20\n",
       "4997    0.349693 -0.866025  5.000000e-01        106.17\n",
       "4998    0.320552 -0.707107  7.071068e-01        106.40\n",
       "4999    0.254601 -0.500000  8.660254e-01        107.44\n",
       "\n",
       "[5000 rows x 4 columns]"
      ]
     },
     "execution_count": 159,
     "metadata": {},
     "output_type": "execute_result"
    }
   ],
   "source": [
    "train_df"
   ]
  },
  {
   "cell_type": "code",
   "execution_count": 162,
   "id": "d1133863-48cb-402b-b4c4-ffd9bf5fd002",
   "metadata": {},
   "outputs": [],
   "source": [
    "input_size = 4  # feature의 개수\n",
    "hidden_size = 32\n",
    "num_layers = 3\n",
    "output_size = 1\n",
    "num_epochs = 100\n",
    "window_size = 48  # 예측에 사용될 시간 윈도우 크기\n",
    "batch_size = 32\n",
    "learning_rate = 0.001"
   ]
  },
  {
   "cell_type": "code",
   "execution_count": 163,
   "id": "6abd5e44-fd46-4764-98ae-61ab342ff14a",
   "metadata": {},
   "outputs": [
    {
     "name": "stdout",
     "output_type": "stream",
     "text": [
      "<class 'pandas.core.frame.DataFrame'>\n",
      "RangeIndex: 5000 entries, 0 to 4999\n",
      "Data columns (total 4 columns):\n",
      " #   Column        Non-Null Count  Dtype  \n",
      "---  ------        --------------  -----  \n",
      " 0   운영 예비력(kW)    5000 non-null   float64\n",
      " 1   sin_hour      5000 non-null   float64\n",
      " 2   cos_hour      5000 non-null   float64\n",
      " 3   하루전가격(원/kWh)  5000 non-null   float64\n",
      "dtypes: float64(4)\n",
      "memory usage: 156.4 KB\n"
     ]
    }
   ],
   "source": [
    "train_df.info()"
   ]
  },
  {
   "cell_type": "code",
   "execution_count": 164,
   "id": "f841ddfd-e8a5-40ec-ab25-77ff549ac8ef",
   "metadata": {},
   "outputs": [],
   "source": [
    "import torch\n",
    "from torch.utils.data import Dataset, DataLoader\n",
    "import pandas as pd\n",
    "\n",
    "class TimeSeriesDataset(Dataset):\n",
    "    def __init__(self, df, window_size):\n",
    "        self.df = df.values\n",
    "        self.window_size = window_size\n",
    "\n",
    "    def __len__(self):\n",
    "        return len(self.df) - self.window_size\n",
    "\n",
    "    def __getitem__(self, idx):\n",
    "        x = torch.tensor(self.df[idx:idx+self.window_size, :], dtype=torch.float)\n",
    "        y = torch.tensor(self.df[idx+self.window_size, -1], dtype=torch.float)\n",
    "        return x, y\n",
    "\n",
    "\n",
    "def create_data_loader(df, window_size, batch_size):\n",
    "    dataset = TimeSeriesDataset(df, window_size)\n",
    "    data_loader = DataLoader(dataset, batch_size=batch_size, shuffle=False)\n",
    "    return data_loader\n",
    "\n",
    "train_loader = create_data_loader(train_df, window_size, batch_size)"
   ]
  },
  {
   "cell_type": "code",
   "execution_count": 165,
   "id": "73610b96-4d71-4d14-ba20-0ae337b6048b",
   "metadata": {},
   "outputs": [],
   "source": [
    "class LSTM(nn.Module):\n",
    "    def __init__(self, input_size, hidden_size, num_layers, output_size):\n",
    "        super(LSTM, self).__init__()\n",
    "\n",
    "        self.hidden_size = hidden_size\n",
    "        self.num_layers = num_layers\n",
    "\n",
    "        self.lstm = nn.LSTM(input_size, hidden_size, num_layers, batch_first=True)\n",
    "        self.fc = nn.Linear(hidden_size, output_size)\n",
    "\n",
    "    def forward(self, x):\n",
    "        h0 = torch.zeros(self.num_layers, x.size(0), self.hidden_size).to(x.device) \n",
    "        c0 = torch.zeros(self.num_layers, x.size(0), self.hidden_size).to(x.device)\n",
    "\n",
    "        out, _ = self.lstm(x, (h0, c0))\n",
    "        out = self.fc(out[:, -1, :])\n",
    "\n",
    "        return out"
   ]
  },
  {
   "cell_type": "code",
   "execution_count": 166,
   "id": "94e9a8ce-5c4c-4e9c-bbe8-7cb73fed91f8",
   "metadata": {},
   "outputs": [
    {
     "name": "stdout",
     "output_type": "stream",
     "text": [
      "current device: cuda\n"
     ]
    }
   ],
   "source": [
    "device = torch.device('cuda' if torch.cuda.is_available() else 'cpu')\n",
    "print(f\"current device: {device}\")\n",
    "\n",
    "model = LSTM(input_size, hidden_size, num_layers, output_size).to(device)\n",
    "\n",
    "criterion = nn.MSELoss()\n",
    "optimizer = torch.optim.Adam(model.parameters(), lr=learning_rate)"
   ]
  },
  {
   "cell_type": "code",
   "execution_count": 167,
   "id": "6e0284f4-6771-4b47-ad1f-e3172b7e8672",
   "metadata": {},
   "outputs": [
    {
     "name": "stdout",
     "output_type": "stream",
     "text": [
      "Epoch [1/100], Step [155/155], Loss: 24108.6406\n",
      "Epoch [2/100], Step [155/155], Loss: 22538.1719\n",
      "Epoch [3/100], Step [155/155], Loss: 21119.7266\n",
      "Epoch [4/100], Step [155/155], Loss: 19801.3750\n",
      "Epoch [5/100], Step [155/155], Loss: 18566.1211\n",
      "Epoch [6/100], Step [155/155], Loss: 17405.0078\n",
      "Epoch [7/100], Step [155/155], Loss: 16312.1045\n",
      "Epoch [8/100], Step [155/155], Loss: 15282.9170\n",
      "Epoch [9/100], Step [155/155], Loss: 14313.7764\n",
      "Epoch [10/100], Step [155/155], Loss: 13401.5342\n",
      "Epoch [11/100], Step [155/155], Loss: 12543.4043\n",
      "Epoch [12/100], Step [155/155], Loss: 11736.8770\n",
      "Epoch [13/100], Step [155/155], Loss: 10979.6357\n",
      "Epoch [14/100], Step [155/155], Loss: 10269.5459\n",
      "Epoch [15/100], Step [155/155], Loss: 9604.5986\n",
      "Epoch [16/100], Step [155/155], Loss: 8982.8984\n",
      "Epoch [17/100], Step [155/155], Loss: 8402.6426\n",
      "Epoch [18/100], Step [155/155], Loss: 7862.1016\n",
      "Epoch [19/100], Step [155/155], Loss: 7359.6094\n",
      "Epoch [20/100], Step [155/155], Loss: 6893.5459\n",
      "Epoch [21/100], Step [155/155], Loss: 6462.3296\n",
      "Epoch [22/100], Step [155/155], Loss: 6064.4116\n",
      "Epoch [23/100], Step [155/155], Loss: 5698.2646\n",
      "Epoch [24/100], Step [155/155], Loss: 5362.1533\n",
      "Epoch [25/100], Step [155/155], Loss: 5036.1084\n",
      "Epoch [26/100], Step [155/155], Loss: 4713.8633\n",
      "Epoch [27/100], Step [155/155], Loss: 4417.4951\n",
      "Epoch [28/100], Step [155/155], Loss: 4149.8853\n",
      "Epoch [29/100], Step [155/155], Loss: 3908.1494\n",
      "Epoch [30/100], Step [155/155], Loss: 3691.5039\n",
      "Epoch [31/100], Step [155/155], Loss: 3497.0044\n",
      "Epoch [32/100], Step [155/155], Loss: 3319.8965\n",
      "Epoch [33/100], Step [155/155], Loss: 3163.9141\n",
      "Epoch [34/100], Step [155/155], Loss: 3023.5020\n",
      "Epoch [35/100], Step [155/155], Loss: 2891.7566\n",
      "Epoch [36/100], Step [155/155], Loss: 2769.1797\n",
      "Epoch [37/100], Step [155/155], Loss: 2585.1533\n",
      "Epoch [38/100], Step [155/155], Loss: 2449.2764\n",
      "Epoch [39/100], Step [155/155], Loss: 2325.7644\n",
      "Epoch [40/100], Step [155/155], Loss: 2222.5894\n",
      "Epoch [41/100], Step [155/155], Loss: 2119.7476\n",
      "Epoch [42/100], Step [155/155], Loss: 2024.7510\n",
      "Epoch [43/100], Step [155/155], Loss: 1945.4526\n",
      "Epoch [44/100], Step [155/155], Loss: 1873.9424\n",
      "Epoch [45/100], Step [155/155], Loss: 1821.9309\n",
      "Epoch [46/100], Step [155/155], Loss: 1776.4978\n",
      "Epoch [47/100], Step [155/155], Loss: 1730.3394\n",
      "Epoch [48/100], Step [155/155], Loss: 1708.1592\n",
      "Epoch [49/100], Step [155/155], Loss: 1665.7224\n",
      "Epoch [50/100], Step [155/155], Loss: 1619.4209\n",
      "Epoch [51/100], Step [155/155], Loss: 1578.6462\n",
      "Epoch [52/100], Step [155/155], Loss: 1559.2445\n",
      "Epoch [53/100], Step [155/155], Loss: 1517.9580\n",
      "Epoch [54/100], Step [155/155], Loss: 1546.2144\n",
      "Epoch [55/100], Step [155/155], Loss: 1500.9475\n",
      "Epoch [56/100], Step [155/155], Loss: 1500.4656\n",
      "Epoch [57/100], Step [155/155], Loss: 1490.5173\n",
      "Epoch [58/100], Step [155/155], Loss: 1472.4242\n",
      "Epoch [59/100], Step [155/155], Loss: 1466.4983\n",
      "Epoch [60/100], Step [155/155], Loss: 1451.6970\n",
      "Epoch [61/100], Step [155/155], Loss: 1441.6357\n",
      "Epoch [62/100], Step [155/155], Loss: 1437.1440\n",
      "Epoch [63/100], Step [155/155], Loss: 1406.4974\n",
      "Epoch [64/100], Step [155/155], Loss: 1392.5156\n",
      "Epoch [65/100], Step [155/155], Loss: 1379.7142\n",
      "Epoch [66/100], Step [155/155], Loss: 1371.8613\n",
      "Epoch [67/100], Step [155/155], Loss: 1352.3075\n",
      "Epoch [68/100], Step [155/155], Loss: 1329.1024\n",
      "Epoch [69/100], Step [155/155], Loss: 1339.8419\n",
      "Epoch [70/100], Step [155/155], Loss: 1314.8325\n",
      "Epoch [71/100], Step [155/155], Loss: 1291.3521\n",
      "Epoch [72/100], Step [155/155], Loss: 1311.6770\n",
      "Epoch [73/100], Step [155/155], Loss: 1301.1904\n",
      "Epoch [74/100], Step [155/155], Loss: 1287.8490\n",
      "Epoch [75/100], Step [155/155], Loss: 1246.2668\n",
      "Epoch [76/100], Step [155/155], Loss: 1249.5430\n",
      "Epoch [77/100], Step [155/155], Loss: 1243.5447\n",
      "Epoch [78/100], Step [155/155], Loss: 1230.1937\n",
      "Epoch [79/100], Step [155/155], Loss: 1232.5863\n",
      "Epoch [80/100], Step [155/155], Loss: 1212.1835\n",
      "Epoch [81/100], Step [155/155], Loss: 1211.2031\n",
      "Epoch [82/100], Step [155/155], Loss: 1208.7601\n",
      "Epoch [83/100], Step [155/155], Loss: 1201.9279\n",
      "Epoch [84/100], Step [155/155], Loss: 1204.5956\n",
      "Epoch [85/100], Step [155/155], Loss: 1196.4177\n",
      "Epoch [86/100], Step [155/155], Loss: 1190.0583\n",
      "Epoch [87/100], Step [155/155], Loss: 1176.7361\n",
      "Epoch [88/100], Step [155/155], Loss: 1172.0776\n",
      "Epoch [89/100], Step [155/155], Loss: 1167.3154\n",
      "Epoch [90/100], Step [155/155], Loss: 1164.1689\n",
      "Epoch [91/100], Step [155/155], Loss: 1156.5604\n",
      "Epoch [92/100], Step [155/155], Loss: 1153.0387\n",
      "Epoch [93/100], Step [155/155], Loss: 1150.0476\n",
      "Epoch [94/100], Step [155/155], Loss: 1147.4443\n",
      "Epoch [95/100], Step [155/155], Loss: 1163.0999\n",
      "Epoch [96/100], Step [155/155], Loss: 1143.9481\n",
      "Epoch [97/100], Step [155/155], Loss: 1149.5785\n",
      "Epoch [98/100], Step [155/155], Loss: 1133.6909\n",
      "Epoch [99/100], Step [155/155], Loss: 1167.2045\n",
      "Epoch [100/100], Step [155/155], Loss: 1141.3929\n"
     ]
    }
   ],
   "source": [
    "for epoch in range(num_epochs):\n",
    "    for i, (inputs, labels) in enumerate(train_loader):\n",
    "        \n",
    "        inputs = inputs.to(device)\n",
    "        labels = labels.unsqueeze(1).to(device)\n",
    "\n",
    "        # Forward\n",
    "        outputs = model(inputs)\n",
    "        loss = criterion(outputs, labels)\n",
    "\n",
    "        # Backward and optimize\n",
    "        optimizer.zero_grad()\n",
    "        loss.backward()\n",
    "        optimizer.step()\n",
    "\n",
    "    print('Epoch [{}/{}], Step [{}/{}], Loss: {:.4f}'.format(epoch+1, num_epochs, i+1, len(train_loader), loss.item()))"
   ]
  },
  {
   "cell_type": "code",
   "execution_count": 168,
   "id": "d9a3f639-0d57-41df-b046-14e12bfe0687",
   "metadata": {},
   "outputs": [],
   "source": [
    "test_loader = create_data_loader(test_df, window_size, 1)"
   ]
  },
  {
   "cell_type": "code",
   "execution_count": 169,
   "id": "c1b8db76-30e5-48a2-9609-e16176c92e38",
   "metadata": {},
   "outputs": [],
   "source": [
    "real = []\n",
    "preds = []\n",
    "pred = None\n",
    "\n",
    "for idx, (X, y) in enumerate(test_loader):\n",
    "    if idx < 180: continue\n",
    "    if pred:\n",
    "        inputs = X.to(device)\n",
    "        inputs[0][-1][-1] = pred\n",
    "        outputs = model(inputs)\n",
    "    else:\n",
    "        inputs = X.to(device)\n",
    "        outputs = model(inputs)\n",
    "    \n",
    "    pred = float(outputs)\n",
    "    y = float(y)\n",
    "\n",
    "    real.append(y)\n",
    "    preds.append(pred)\n",
    "    \n",
    "    if idx == 226:\n",
    "        break"
   ]
  },
  {
   "cell_type": "code",
   "execution_count": 170,
   "id": "096a60b2-70e4-44e9-a287-b8900c1053ab",
   "metadata": {},
   "outputs": [
    {
     "data": {
      "text/plain": [
       "[<matplotlib.lines.Line2D at 0x7f9dae1c37f0>]"
      ]
     },
     "execution_count": 170,
     "metadata": {},
     "output_type": "execute_result"
    },
    {
     "data": {
      "image/png": "[encoded data removed]",
      "text/plain": [
       "<Figure size 640x480 with 1 Axes>"
      ]
     },
     "metadata": {},
     "output_type": "display_data"
    }
   ],
   "source": [
    "plt.plot(real)\n",
    "plt.plot(preds)"
   ]
  },
  {
   "cell_type": "code",
   "execution_count": 171,
   "id": "c5e421ac-ae2d-407c-9b1e-e89851e2f391",
   "metadata": {},
   "outputs": [],
   "source": [
    "real = []\n",
    "preds = []\n",
    "\n",
    "for idx, (X, y) in enumerate(test_loader):\n",
    "    if idx < 180: continue    \n",
    "    inputs = X.to(device)\n",
    "    \n",
    "    outputs = model(inputs)\n",
    "    \n",
    "    pred = float(outputs)\n",
    "    y = float(y)\n",
    "\n",
    "    real.append(y)\n",
    "    preds.append(pred)\n",
    "    \n",
    "    if idx == 226:\n",
    "        break"
   ]
  },
  {
   "cell_type": "code",
   "execution_count": 172,
   "id": "5f5ecf0c-479e-4101-8f8c-bd207d159c0e",
   "metadata": {},
   "outputs": [
    {
     "data": {
      "text/plain": [
       "[<matplotlib.lines.Line2D at 0x7f9dae1e7d90>]"
      ]
     },
     "execution_count": 172,
     "metadata": {},
     "output_type": "execute_result"
    },
    {
     "data": {
      "image/png": "[encoded data removed]",
      "text/plain": [
       "<Figure size 640x480 with 1 Axes>"
      ]
     },
     "metadata": {},
     "output_type": "display_data"
    }
   ],
   "source": [
    "plt.plot(real)\n",
    "plt.plot(preds)"
   ]
  },
  {
   "cell_type": "code",
   "execution_count": null,
   "id": "937148fb-1177-4a56-bd0a-8f17dd42a16d",
   "metadata": {},
   "outputs": [],
   "source": []
  }
 ],
 "metadata": {
  "kernelspec": {
   "display_name": "Python 3 (ipykernel)",
   "language": "python",
   "name": "python3"
  },
  "language_info": {
   "codemirror_mode": {
    "name": "ipython",
    "version": 3
   },
   "file_extension": ".py",
   "mimetype": "text/x-python",
   "name": "python",
   "nbconvert_exporter": "python",
   "pygments_lexer": "ipython3",
   "version": "3.10.14"
  }
 },
 "nbformat": 4,
 "nbformat_minor": 5
}
